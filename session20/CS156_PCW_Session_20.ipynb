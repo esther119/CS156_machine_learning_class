{
  "cells": [
    {
      "cell_type": "markdown",
      "metadata": {
        "id": "jDiE7PWNw8cE"
      },
      "source": [
        "1. Fraud: A How-To Guide\n",
        "In this problem you will use density modeling to try and ensure that there are no statistical irregularities in data that you have generated yourself.\n",
        "\n",
        "Download the following data containing personal transactions over a period of several years.\n",
        "Now build a density model for the number of transactions that occur in a single month.\n",
        "Create plots showing the distribution that you've created.\n",
        "Draw 10 samples from this density model using scikit.learn."
      ]
    },
    {
      "cell_type": "code",
      "execution_count": 1,
      "metadata": {
        "id": "UU766FtFw1ds"
      },
      "outputs": [],
      "source": [
        "import matplotlib.pyplot as plt\n",
        "import numpy as np\n",
        "import scipy.stats as sts\n",
        "import pandas as pd"
      ]
    },
    {
      "cell_type": "code",
      "execution_count": 3,
      "metadata": {
        "colab": {
          "base_uri": "https://localhost:8080/",
          "height": 206
        },
        "id": "WFGlVZKSw6qF",
        "outputId": "c076611e-65dc-42f4-c385-0f231f97e202"
      },
      "outputs": [
        {
          "data": {
            "text/html": [
              "\n",
              "  <div id=\"df-a1047ded-926f-4043-988f-b187324b83bf\">\n",
              "    <div class=\"colab-df-container\">\n",
              "      <div>\n",
              "<style scoped>\n",
              "    .dataframe tbody tr th:only-of-type {\n",
              "        vertical-align: middle;\n",
              "    }\n",
              "\n",
              "    .dataframe tbody tr th {\n",
              "        vertical-align: top;\n",
              "    }\n",
              "\n",
              "    .dataframe thead th {\n",
              "        text-align: right;\n",
              "    }\n",
              "</style>\n",
              "<table border=\"1\" class=\"dataframe\">\n",
              "  <thead>\n",
              "    <tr style=\"text-align: right;\">\n",
              "      <th></th>\n",
              "      <th>Date</th>\n",
              "      <th>Amount</th>\n",
              "    </tr>\n",
              "  </thead>\n",
              "  <tbody>\n",
              "    <tr>\n",
              "      <th>0</th>\n",
              "      <td>2016-05-25</td>\n",
              "      <td>54241.35</td>\n",
              "    </tr>\n",
              "    <tr>\n",
              "      <th>1</th>\n",
              "      <td>2017-05-29</td>\n",
              "      <td>54008.83</td>\n",
              "    </tr>\n",
              "    <tr>\n",
              "      <th>2</th>\n",
              "      <td>2017-06-30</td>\n",
              "      <td>54008.82</td>\n",
              "    </tr>\n",
              "    <tr>\n",
              "      <th>3</th>\n",
              "      <td>2017-01-05</td>\n",
              "      <td>52704.37</td>\n",
              "    </tr>\n",
              "    <tr>\n",
              "      <th>4</th>\n",
              "      <td>2017-02-23</td>\n",
              "      <td>52704.36</td>\n",
              "    </tr>\n",
              "  </tbody>\n",
              "</table>\n",
              "</div>\n",
              "      <button class=\"colab-df-convert\" onclick=\"convertToInteractive('df-a1047ded-926f-4043-988f-b187324b83bf')\"\n",
              "              title=\"Convert this dataframe to an interactive table.\"\n",
              "              style=\"display:none;\">\n",
              "        \n",
              "  <svg xmlns=\"http://www.w3.org/2000/svg\" height=\"24px\"viewBox=\"0 0 24 24\"\n",
              "       width=\"24px\">\n",
              "    <path d=\"M0 0h24v24H0V0z\" fill=\"none\"/>\n",
              "    <path d=\"M18.56 5.44l.94 2.06.94-2.06 2.06-.94-2.06-.94-.94-2.06-.94 2.06-2.06.94zm-11 1L8.5 8.5l.94-2.06 2.06-.94-2.06-.94L8.5 2.5l-.94 2.06-2.06.94zm10 10l.94 2.06.94-2.06 2.06-.94-2.06-.94-.94-2.06-.94 2.06-2.06.94z\"/><path d=\"M17.41 7.96l-1.37-1.37c-.4-.4-.92-.59-1.43-.59-.52 0-1.04.2-1.43.59L10.3 9.45l-7.72 7.72c-.78.78-.78 2.05 0 2.83L4 21.41c.39.39.9.59 1.41.59.51 0 1.02-.2 1.41-.59l7.78-7.78 2.81-2.81c.8-.78.8-2.07 0-2.86zM5.41 20L4 18.59l7.72-7.72 1.47 1.35L5.41 20z\"/>\n",
              "  </svg>\n",
              "      </button>\n",
              "      \n",
              "  <style>\n",
              "    .colab-df-container {\n",
              "      display:flex;\n",
              "      flex-wrap:wrap;\n",
              "      gap: 12px;\n",
              "    }\n",
              "\n",
              "    .colab-df-convert {\n",
              "      background-color: #E8F0FE;\n",
              "      border: none;\n",
              "      border-radius: 50%;\n",
              "      cursor: pointer;\n",
              "      display: none;\n",
              "      fill: #1967D2;\n",
              "      height: 32px;\n",
              "      padding: 0 0 0 0;\n",
              "      width: 32px;\n",
              "    }\n",
              "\n",
              "    .colab-df-convert:hover {\n",
              "      background-color: #E2EBFA;\n",
              "      box-shadow: 0px 1px 2px rgba(60, 64, 67, 0.3), 0px 1px 3px 1px rgba(60, 64, 67, 0.15);\n",
              "      fill: #174EA6;\n",
              "    }\n",
              "\n",
              "    [theme=dark] .colab-df-convert {\n",
              "      background-color: #3B4455;\n",
              "      fill: #D2E3FC;\n",
              "    }\n",
              "\n",
              "    [theme=dark] .colab-df-convert:hover {\n",
              "      background-color: #434B5C;\n",
              "      box-shadow: 0px 1px 3px 1px rgba(0, 0, 0, 0.15);\n",
              "      filter: drop-shadow(0px 1px 2px rgba(0, 0, 0, 0.3));\n",
              "      fill: #FFFFFF;\n",
              "    }\n",
              "  </style>\n",
              "\n",
              "      <script>\n",
              "        const buttonEl =\n",
              "          document.querySelector('#df-a1047ded-926f-4043-988f-b187324b83bf button.colab-df-convert');\n",
              "        buttonEl.style.display =\n",
              "          google.colab.kernel.accessAllowed ? 'block' : 'none';\n",
              "\n",
              "        async function convertToInteractive(key) {\n",
              "          const element = document.querySelector('#df-a1047ded-926f-4043-988f-b187324b83bf');\n",
              "          const dataTable =\n",
              "            await google.colab.kernel.invokeFunction('convertToInteractive',\n",
              "                                                     [key], {});\n",
              "          if (!dataTable) return;\n",
              "\n",
              "          const docLinkHtml = 'Like what you see? Visit the ' +\n",
              "            '<a target=\"_blank\" href=https://colab.research.google.com/notebooks/data_table.ipynb>data table notebook</a>'\n",
              "            + ' to learn more about interactive tables.';\n",
              "          element.innerHTML = '';\n",
              "          dataTable['output_type'] = 'display_data';\n",
              "          await google.colab.output.renderOutput(dataTable, element);\n",
              "          const docLink = document.createElement('div');\n",
              "          docLink.innerHTML = docLinkHtml;\n",
              "          element.appendChild(docLink);\n",
              "        }\n",
              "      </script>\n",
              "    </div>\n",
              "  </div>\n",
              "  "
            ],
            "text/plain": [
              "        Date    Amount\n",
              "0 2016-05-25  54241.35\n",
              "1 2017-05-29  54008.83\n",
              "2 2017-06-30  54008.82\n",
              "3 2017-01-05  52704.37\n",
              "4 2017-02-23  52704.36"
            ]
          },
          "execution_count": 3,
          "metadata": {},
          "output_type": "execute_result"
        }
      ],
      "source": [
        "df = pd.read_csv(\"https://raw.githubusercontent.com/hueyning/cs156-ml/master/CS156%20Session%2010.1%20-%20Clustering%20models/transactions.csv\")\n",
        "df['Date'] = pd.to_datetime(df['Date'])\n",
        "\n",
        "df.head()"
      ]
    },
    {
      "cell_type": "markdown",
      "metadata": {
        "id": "i9DHCrrYxSjY"
      },
      "source": [
        "Note: Cannot download the data so use the one online shared with Ha. "
      ]
    },
    {
      "cell_type": "code",
      "execution_count": 4,
      "metadata": {
        "colab": {
          "base_uri": "https://localhost:8080/"
        },
        "id": "JnkZNgYExD1G",
        "outputId": "66582932-0b41-472c-8f51-f6277de0ce54"
      },
      "outputs": [
        {
          "data": {
            "text/plain": [
              "Date\n",
              "01    243\n",
              "02    195\n",
              "03    235\n",
              "04    194\n",
              "05    221\n",
              "06    224\n",
              "07    191\n",
              "08    198\n",
              "09    221\n",
              "10    176\n",
              "11    169\n",
              "12    251\n",
              "Name: Amount, dtype: int64"
            ]
          },
          "execution_count": 4,
          "metadata": {},
          "output_type": "execute_result"
        }
      ],
      "source": [
        "from sklearn.neighbors import KernelDensity\n",
        "\n",
        "month_trans = df.groupby(df['Date'].dt.strftime('%m'))['Amount'].count()\n",
        "\n",
        "month_trans"
      ]
    },
    {
      "cell_type": "code",
      "execution_count": 5,
      "metadata": {
        "colab": {
          "base_uri": "https://localhost:8080/",
          "height": 282
        },
        "id": "s9kFIgbZxd5f",
        "outputId": "7eaf5b86-29de-4658-f95e-917f514c4f9f"
      },
      "outputs": [
        {
          "data": {
            "text/plain": [
              "<BarContainer object of 12 artists>"
            ]
          },
          "execution_count": 5,
          "metadata": {},
          "output_type": "execute_result"
        },
        {
          "data": {
            "image/png": "[encoded data removed]",
            "text/plain": [
              "<Figure size 432x288 with 1 Axes>"
            ]
          },
          "metadata": {
            "needs_background": "light"
          },
          "output_type": "display_data"
        }
      ],
      "source": [
        "month = [i for i in range(1, 13)]\n",
        "plt.bar(month, month_trans)"
      ]
    },
    {
      "cell_type": "code",
      "execution_count": 9,
      "metadata": {
        "colab": {
          "base_uri": "https://localhost:8080/"
        },
        "id": "rVLOi7lTxjhY",
        "outputId": "d6c6ee22-7bdb-4603-d23b-b550b4393db4"
      },
      "outputs": [
        {
          "name": "stdout",
          "output_type": "stream",
          "text": [
            "[[235.20513216]\n",
            " [195.26912154]\n",
            " [168.82689292]\n",
            " [198.49349482]\n",
            " [176.6183928 ]\n",
            " [224.31783602]\n",
            " [193.20497925]\n",
            " [194.40292744]\n",
            " [222.77772207]\n",
            " [241.7914046 ]]\n"
          ]
        }
      ],
      "source": [
        "X = np.array(month_trans).reshape(-1, 1)\n",
        "model = KernelDensity(kernel='gaussian').fit(X)\n",
        "model.score_samples(X)\n",
        "\n",
        "#withdraw 10 samples from the density model \n",
        "samples = model.sample(10)\n",
        "print(samples)"
      ]
    },
    {
      "cell_type": "code",
      "execution_count": 7,
      "metadata": {
        "colab": {
          "base_uri": "https://localhost:8080/",
          "height": 336
        },
        "id": "7HJaI7Mcxps4",
        "outputId": "25cb9c7d-ed3c-41d1-ea33-687ff2519048"
      },
      "outputs": [
        {
          "data": {
            "text/plain": [
              "(array([2., 0., 1., 3., 0., 0., 3., 0., 1., 2.]),\n",
              " array([169. , 177.2, 185.4, 193.6, 201.8, 210. , 218.2, 226.4, 234.6,\n",
              "        242.8, 251. ]),\n",
              " <a list of 10 Patch objects>)"
            ]
          },
          "execution_count": 7,
          "metadata": {},
          "output_type": "execute_result"
        },
        {
          "data": {
            "image/png": "[encoded data removed]",
            "text/plain": [
              "<Figure size 432x288 with 1 Axes>"
            ]
          },
          "metadata": {
            "needs_background": "light"
          },
          "output_type": "display_data"
        }
      ],
      "source": [
        "plt.hist(X)"
      ]
    },
    {
      "cell_type": "markdown",
      "metadata": {},
      "source": [
        "## Q2 "
      ]
    },
    {
      "cell_type": "code",
      "execution_count": null,
      "metadata": {
        "id": "NXIFK9gpx_v0"
      },
      "outputs": [],
      "source": [
        "#Finn's code \n",
        "import numpy as np\n",
        "import urllib.request\n",
        "\n",
        "url = \"https://course-resources.minerva.kgi.edu/uploaded_files/mke/rKwePr/questionnaire.csv\"\n",
        "f = urllib.request.urlopen(url)\n",
        "answers = np.loadtxt(f, delimiter=\",\")\n",
        "n_people, n_questions = answers.shape\n",
        "n_clusters = 4\n",
        "\n",
        "p_clusters = np.asarray([0.25, 0.25, 0.25, 0.25])\n",
        "biases = np.random.beta(0.75, 0.75, size=(n_questions, n_clusters))\n",
        "\n",
        "\n",
        "def expectation(answers, biases, p_clusters):\n",
        "    # In this function we create our expectations.\n",
        "    \n",
        "    # find expectations for each person in the dataset\n",
        "    lst_people = []\n",
        "    for p_idx, person in enumerate(answers):\n",
        "        # find expectations for each class for each person\n",
        "        exp = [0, 0, 0, 0]\n",
        "        numerators = []\n",
        "        for c_idx, cls in enumerate(p_clusters):\n",
        "            prob = 1\n",
        "\n",
        "            # this part finds p(v^n | h) for the class given by c_idx\n",
        "            for q_idx, question in enumerate(person):\n",
        "                if answers[p_idx][q_idx]:\n",
        "                    prob *= biases[q_idx][c_idx]\n",
        "                else:\n",
        "                    prob *= 1 - biases[q_idx][c_idx]\n",
        "\n",
        "            numerators.append(prob * p_clusters[c_idx]) # the second term is p(h)\n",
        "\n",
        "        # equivalent to p(vn | h)p(h)/(sum_h p(vn | h)*p(h))\n",
        "        for n_idx, num in enumerate(numerators):\n",
        "            exp[n_idx] = num / sum(numerators)\n",
        "\n",
        "        lst_people.append(exp)\n",
        "\n",
        "    people = np.array(lst_people)\n",
        "\n",
        "    # normalize the distributions\n",
        "    people = people / people.sum(axis=1, keepdims=1)\n",
        "    return people\n",
        "\n",
        "\n",
        "def maximization(answers, people):\n",
        "    \n",
        "    # people is equivalent to p(h | v^n)\n",
        "    # In this part we have to answer the question: what biases create a distribution\n",
        "    # that looks as much as possible like PEOPLE when fed ANSWERS\n",
        "\n",
        "    def people_indicator(person_answer, answer):\n",
        "        if (person_answer == answer).all():\n",
        "            return 1\n",
        "        else:\n",
        "            return 0\n",
        "    new_biases = []\n",
        "\n",
        "    for ans_idx in range(answers.shape[0]):\n",
        "        person_biases = []\n",
        "        for c_idx in range(4):\n",
        "\n",
        "            # numerator\n",
        "            prob = 0\n",
        "            for p_idx in range(people.shape[0]):\n",
        "                prob += people[p_idx][c_idx]*people_indicator(answers[ans_idx], answers[p_idx])\n",
        "\n",
        "            person_biases.append(prob)\n",
        "\n",
        "        new_biases.append(person_biases)\n",
        "\n",
        "    np_biases = np.array(new_biases)\n",
        "\n",
        "    # 2have to use sklearn's normalize\n",
        "    final_biases = normalize(np_biases, axis=1, norm='l1')\n",
        "    return final_biases\n",
        "\n",
        "\n",
        "for step in range(3):\n",
        "    people = expectation(answers, biases, p_clusters)\n",
        "    biases = maximization(answers, people)\n",
        "\n",
        "print(biases)\n",
        "print(people)\n"
      ]
    },
    {
      "cell_type": "code",
      "execution_count": null,
      "metadata": {},
      "outputs": [],
      "source": [
        "# EM for survey data\n",
        "\n",
        "import numpy as np\n",
        "import urllib.request\n",
        "\n",
        "url = \"https://course-resources.minerva.kgi.edu/uploaded_files/mke/rKwePr/questionnaire.csv\"\n",
        "f = urllib.request.urlopen(url)\n",
        "answers = np.loadtxt(f, delimiter=\",\")\n",
        "n_people, n_questions = answers.shape\n",
        "n_clusters = 4\n",
        "\n",
        "p_clusters = np.asarray([0.25, 0.25, 0.25, 0.25])\n",
        "biases = np.random.beta(0.75, 0.75, size=(n_questions, n_clusters))\n",
        "\n",
        "def expectation(answers, biases, p_clusters):\n",
        "    # In this function we create our expectations.\n",
        "    people = np.zeros((n_people, n_clusters))\n",
        "    log_bias = np.log(biases)\n",
        "    log_other_bias = np.log1p(-biases)\n",
        "\n",
        "    for a in range(n_clusters):\n",
        "        term1 = (answers.T * log_bias[:, a:a + 1]).sum(axis=0)\n",
        "        #conditional prob of answers given the cluster = p(v^n |h) p(h) numerator \n",
        "        term2 = ((1 - answers).T * log_other_bias[:, a:a + 1]).sum(axis=0)\n",
        "        #conditional prob of answers given any other cluster = denominator * (-1) \n",
        "        people[:, a] = np.log(p_clusters[a]) + term1 + term2\n",
        "        #joint prob of every cluster \n",
        "       \n",
        "    # \n",
        "\n",
        "    people = people - people.max()\n",
        "    people = np.exp(people)\n",
        "    \n",
        "    # # people = np.exp(answers@np.log(biases+1e-15) + (1-answers)@np.log(1-biases + 1e-15))@np.diag(p_clusters)\n",
        "    #for i in range(0,n_people):\n",
        "    #    for j in range(0, n_clusters):\n",
        "    #        prob_i = np.prod(biases[answers[i,:] == 1,j])*np.prod(1-biases[answers[i,:] == 0,j])\n",
        "    #         # Using bayes' rule, let's get the probability that class j resulted in this data\n",
        "    #        people[i,j] = prob_i*p_clusters[j]\n",
        "    \n",
        "    #Normalize\n",
        "    people = people / np.sum(people, axis=1, keepdims=True)\n",
        "    return people\n",
        "\n",
        "\n",
        "def maximization(answers, people):\n",
        "    # Treating all the data as visible, now infer the parameters for the model.\n",
        "    \n",
        "    biases = np.zeros((n_questions, n_clusters))\n",
        "    # for each class, compute the biases on each question\n",
        "    biases =np.zeros((n_questions, n_clusters))\n",
        "    \n",
        "    for a in range(n_clusters):\n",
        "        temp = people[:, a:a + 1]\n",
        "        z = temp.sum()\n",
        "        biases[:, a] = (temp * answers).sum(0) / z\n",
        "\n",
        "    # Update the cluster probabilities\n",
        "    sum_clusters = np.sum(people, axis = 0)\n",
        "    cluster_prob = sum_clusters/np.sum(sum_clusters)\n",
        "    \n",
        "    # print(f\"cluster priors: {cluster_prob}\")\n",
        "    \n",
        "    return (biases, cluster_prob)\n",
        "\n",
        "cluster_vals = p_clusters\n",
        "\n",
        "for step in range(25):\n",
        "    people = expectation(answers, biases, p_clusters)\n",
        "    biases, p_clusters = maximization(answers, people)\n",
        "    cluster_vals = np.vstack([cluster_vals,p_clusters])\n",
        "\n",
        "print(biases)\n",
        "print(p_clusters)\n"
      ]
    },
    {
      "cell_type": "markdown",
      "metadata": {},
      "source": [
        "Debrief: https://docs.google.com/document/d/1fM1ga_lmm0MlGUG9RyhoDhc0S9JsOPGhOIvLSUcklrA/edit\n"
      ]
    },
    {
      "cell_type": "markdown",
      "metadata": {},
      "source": []
    }
  ],
  "metadata": {
    "colab": {
      "collapsed_sections": [],
      "name": "CS156 PCW Session 20.ipynb",
      "provenance": []
    },
    "kernelspec": {
      "display_name": "Python 3",
      "name": "python3"
    },
    "language_info": {
      "name": "python"
    }
  },
  "nbformat": 4,
  "nbformat_minor": 0
}
