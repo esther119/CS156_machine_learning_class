{
 "cells": [
  {
   "cell_type": "markdown",
   "metadata": {},
   "source": [
    "# Regression and Classification"
   ]
  },
  {
   "cell_type": "markdown",
   "metadata": {},
   "source": [
    "## 1. Moore's Law\n",
    "Use the scripts from here to download a large amount of data relating to CPU specs. The scripts might take as long as an hour, depending on your connection speed. (Pay attention to the line \"If you want to skip the steps in this section, you can simply download the aggregated result files from http://preshing.com/files/specdata20120207.zip and extract them to this folder.\" This will be faster and save you some troubles while providing the same dataset.)"
   ]
  },
  {
   "cell_type": "code",
   "execution_count": 6,
   "metadata": {},
   "outputs": [
    {
     "name": "stderr",
     "output_type": "stream",
     "text": [
      "/Users/swimmingcircle/Library/Python/3.9/lib/python/site-packages/IPython/core/interactiveshell.py:3457: DtypeWarning: Columns (3) have mixed types.Specify dtype option on import or set low_memory=False.\n",
      "  exec(code_obj, self.user_global_ns, self.user_ns)\n"
     ]
    }
   ],
   "source": [
    "import pandas as pd\n",
    "import numpy as np\n",
    "\n",
    "benchmark = pd.read_csv ('/Users/swimmingcircle/cs156_code/assignments/assignment_1/specdata20120207/benchmarks.csv')\n",
    "summary = pd.read_csv ('/Users/swimmingcircle/cs156_code/assignments/assignment_1/specdata20120207/summaries.csv')"
   ]
  },
  {
   "cell_type": "code",
   "execution_count": 7,
   "metadata": {},
   "outputs": [
    {
     "name": "stdout",
     "output_type": "stream",
     "text": [
      "<class 'pandas.core.frame.DataFrame'>\n",
      "RangeIndex: 136995 entries, 0 to 136994\n",
      "Data columns (total 4 columns):\n",
      " #   Column     Non-Null Count   Dtype  \n",
      "---  ------     --------------   -----  \n",
      " 0   testID     136995 non-null  object \n",
      " 1   benchName  136995 non-null  object \n",
      " 2   base       136995 non-null  float64\n",
      " 3   peak       131575 non-null  object \n",
      "dtypes: float64(1), object(3)\n",
      "memory usage: 4.2+ MB\n"
     ]
    },
    {
     "data": {
      "text/plain": [
       "(None,\n",
       " (136995, 4),\n",
       "                  testID    benchName   base  peak\n",
       " 0  cpu95-19990104-03254  101.tomcatv  19.40  27.1\n",
       " 1  cpu95-19990104-03254     102.swim  27.20  34.8\n",
       " 2  cpu95-19990104-03254   103.su2cor  10.10  9.98\n",
       " 3  cpu95-19990104-03254  104.hydro2d   8.58  8.61\n",
       " 4  cpu95-19990104-03254    107.mgrid   8.94  9.44)"
      ]
     },
     "execution_count": 7,
     "metadata": {},
     "output_type": "execute_result"
    }
   ],
   "source": [
    "benchmark.info(), benchmark.shape, benchmark.head()"
   ]
  },
  {
   "cell_type": "code",
   "execution_count": 8,
   "metadata": {},
   "outputs": [
    {
     "name": "stdout",
     "output_type": "stream",
     "text": [
      "<class 'pandas.core.frame.DataFrame'>\n",
      "RangeIndex: 10155 entries, 0 to 10154\n",
      "Data columns (total 12 columns):\n",
      " #   Column        Non-Null Count  Dtype  \n",
      "---  ------        --------------  -----  \n",
      " 0   testID        10155 non-null  object \n",
      " 1   tester        10155 non-null  object \n",
      " 2   machine       8982 non-null   object \n",
      " 3   cpu           10155 non-null  object \n",
      " 4   mhz           10155 non-null  float64\n",
      " 5   hwAvail       10155 non-null  object \n",
      " 6   os            10155 non-null  object \n",
      " 7   compiler      10155 non-null  object \n",
      " 8   autoParallel  10155 non-null  object \n",
      " 9   benchType     10155 non-null  object \n",
      " 10  base          10155 non-null  float64\n",
      " 11  peak          10155 non-null  object \n",
      "dtypes: float64(2), object(10)\n",
      "memory usage: 952.2+ KB\n"
     ]
    },
    {
     "data": {
      "text/plain": [
       "(None,\n",
       " (10155, 12),\n",
       "                  testID            tester                             machine  \\\n",
       " 0  cpu95-19990104-03254              Dell  Precision WorkStation 610 (450MHz)   \n",
       " 1  cpu95-19990104-03256              Dell  Precision WorkStation 610 (450MHz)   \n",
       " 2  cpu95-19990118-03257  Siemens, Germany                        CELSIUS 2000   \n",
       " 3  cpu95-19990118-03258  Siemens, Germany                        CELSIUS 2000   \n",
       " 4  cpu95-19990122-03268    Sun, Palo Alto                 Sun Enterprise 3500   \n",
       " \n",
       "                                  cpu    mhz   hwAvail  \\\n",
       " 0            450 MHz Pentium II XEON  450.0  Jan-1999   \n",
       " 1            450 MHz Pentium II XEON  450.0  Jan-1999   \n",
       " 2  Pentium II Xeon Processor 450 MHz  450.0  Nov-1998   \n",
       " 3  Pentium II Xeon Processor 450 MHz  450.0  Nov-1998   \n",
       " 4               400MHz UltraSPARC II  400.0  Dec-1998   \n",
       " \n",
       "                                  os  \\\n",
       " 0      Microsoft Windows NT 4.0 sp3   \n",
       " 1      Microsoft Windows NT 4.0 sp3   \n",
       " 2  Windows NT V4.0 (Service Pack 3)   \n",
       " 3  Windows NT V4.0 (Service Pack 4)   \n",
       " 4                       Solaris 2.7   \n",
       " \n",
       "                                             compiler autoParallel benchType  \\\n",
       " 0                         Intel Fortran Compiler 2.4           No     CFP95   \n",
       " 1  Intel C Compiler 2.4 for Windows NT, Microsoft...           No    CINT95   \n",
       " 2                       Intel C Compiler Plug-In 2.4           No    CINT95   \n",
       " 3                 Intel Fortran Compiler Plug-In 2.4           No     CFP95   \n",
       " 4                                          Sun C 5.0           No    CINT95   \n",
       " \n",
       "    base  peak  \n",
       " 0  13.9  15.2  \n",
       " 1  19.0  19.0  \n",
       " 2  18.9  18.9  \n",
       " 3  13.5  15.0  \n",
       " 4  14.3  17.7  )"
      ]
     },
     "execution_count": 8,
     "metadata": {},
     "output_type": "execute_result"
    }
   ],
   "source": [
    "summary.info(), summary.shape, summary.head()"
   ]
  },
  {
   "cell_type": "markdown",
   "metadata": {},
   "source": [
    "1. Extract the date and base speed for a benchmark of your choice. Note that the dates contained as part of the testID don't tell us about when the hardware was actually designed, so the test could have been run at a much later date using older hardware. We therefore need the date indicating when the hardware was first available (hwAvail) from the summaries file to really test Moore's Law."
   ]
  },
  {
   "cell_type": "markdown",
   "metadata": {},
   "source": [
    "#### Join dataframe benchmark and summary on test id"
   ]
  },
  {
   "cell_type": "code",
   "execution_count": 9,
   "metadata": {},
   "outputs": [],
   "source": [
    "df = pd.merge(benchmark, summary[['testID','hwAvail']], on='testID')"
   ]
  },
  {
   "cell_type": "code",
   "execution_count": 10,
   "metadata": {},
   "outputs": [
    {
     "data": {
      "text/html": [
       "<div>\n",
       "<style scoped>\n",
       "    .dataframe tbody tr th:only-of-type {\n",
       "        vertical-align: middle;\n",
       "    }\n",
       "\n",
       "    .dataframe tbody tr th {\n",
       "        vertical-align: top;\n",
       "    }\n",
       "\n",
       "    .dataframe thead th {\n",
       "        text-align: right;\n",
       "    }\n",
       "</style>\n",
       "<table border=\"1\" class=\"dataframe\">\n",
       "  <thead>\n",
       "    <tr style=\"text-align: right;\">\n",
       "      <th></th>\n",
       "      <th>testID</th>\n",
       "      <th>benchName</th>\n",
       "      <th>base</th>\n",
       "      <th>peak</th>\n",
       "      <th>hwAvail</th>\n",
       "      <th>time_delta</th>\n",
       "    </tr>\n",
       "  </thead>\n",
       "  <tbody>\n",
       "    <tr>\n",
       "      <th>0</th>\n",
       "      <td>cpu95-19990104-03254</td>\n",
       "      <td>101.tomcatv</td>\n",
       "      <td>19.40</td>\n",
       "      <td>27.1</td>\n",
       "      <td>1999-01-01</td>\n",
       "      <td>2863.0</td>\n",
       "    </tr>\n",
       "    <tr>\n",
       "      <th>1</th>\n",
       "      <td>cpu95-19990104-03254</td>\n",
       "      <td>102.swim</td>\n",
       "      <td>27.20</td>\n",
       "      <td>34.8</td>\n",
       "      <td>1999-01-01</td>\n",
       "      <td>2863.0</td>\n",
       "    </tr>\n",
       "    <tr>\n",
       "      <th>2</th>\n",
       "      <td>cpu95-19990104-03254</td>\n",
       "      <td>103.su2cor</td>\n",
       "      <td>10.10</td>\n",
       "      <td>9.98</td>\n",
       "      <td>1999-01-01</td>\n",
       "      <td>2863.0</td>\n",
       "    </tr>\n",
       "    <tr>\n",
       "      <th>3</th>\n",
       "      <td>cpu95-19990104-03254</td>\n",
       "      <td>104.hydro2d</td>\n",
       "      <td>8.58</td>\n",
       "      <td>8.61</td>\n",
       "      <td>1999-01-01</td>\n",
       "      <td>2863.0</td>\n",
       "    </tr>\n",
       "    <tr>\n",
       "      <th>4</th>\n",
       "      <td>cpu95-19990104-03254</td>\n",
       "      <td>107.mgrid</td>\n",
       "      <td>8.94</td>\n",
       "      <td>9.44</td>\n",
       "      <td>1999-01-01</td>\n",
       "      <td>2863.0</td>\n",
       "    </tr>\n",
       "  </tbody>\n",
       "</table>\n",
       "</div>"
      ],
      "text/plain": [
       "                 testID    benchName   base  peak    hwAvail  time_delta\n",
       "0  cpu95-19990104-03254  101.tomcatv  19.40  27.1 1999-01-01      2863.0\n",
       "1  cpu95-19990104-03254     102.swim  27.20  34.8 1999-01-01      2863.0\n",
       "2  cpu95-19990104-03254   103.su2cor  10.10  9.98 1999-01-01      2863.0\n",
       "3  cpu95-19990104-03254  104.hydro2d   8.58  8.61 1999-01-01      2863.0\n",
       "4  cpu95-19990104-03254    107.mgrid   8.94  9.44 1999-01-01      2863.0"
      ]
     },
     "execution_count": 10,
     "metadata": {},
     "output_type": "execute_result"
    }
   ],
   "source": [
    "#convert first available time to datatime \n",
    "df['hwAvail'] = pd.to_datetime(df['hwAvail'])\n",
    "df['time_delta'] = (df['hwAvail'] - df['hwAvail'].min()) /np.timedelta64(1,'D')\n",
    "df.head()"
   ]
  },
  {
   "cell_type": "code",
   "execution_count": 11,
   "metadata": {},
   "outputs": [
    {
     "data": {
      "text/html": [
       "<div>\n",
       "<style scoped>\n",
       "    .dataframe tbody tr th:only-of-type {\n",
       "        vertical-align: middle;\n",
       "    }\n",
       "\n",
       "    .dataframe tbody tr th {\n",
       "        vertical-align: top;\n",
       "    }\n",
       "\n",
       "    .dataframe thead th {\n",
       "        text-align: right;\n",
       "    }\n",
       "</style>\n",
       "<table border=\"1\" class=\"dataframe\">\n",
       "  <thead>\n",
       "    <tr style=\"text-align: right;\">\n",
       "      <th></th>\n",
       "      <th>testID</th>\n",
       "      <th>benchName</th>\n",
       "      <th>base</th>\n",
       "      <th>peak</th>\n",
       "      <th>hwAvail</th>\n",
       "      <th>time_delta</th>\n",
       "      <th>log_base</th>\n",
       "    </tr>\n",
       "  </thead>\n",
       "  <tbody>\n",
       "    <tr>\n",
       "      <th>0</th>\n",
       "      <td>cpu95-19990104-03254</td>\n",
       "      <td>101.tomcatv</td>\n",
       "      <td>19.40</td>\n",
       "      <td>27.1</td>\n",
       "      <td>1999-01-01</td>\n",
       "      <td>2863.0</td>\n",
       "      <td>2.965273</td>\n",
       "    </tr>\n",
       "    <tr>\n",
       "      <th>26</th>\n",
       "      <td>cpu95-19990118-03258</td>\n",
       "      <td>101.tomcatv</td>\n",
       "      <td>19.50</td>\n",
       "      <td>27.5</td>\n",
       "      <td>1998-11-01</td>\n",
       "      <td>2802.0</td>\n",
       "      <td>2.970414</td>\n",
       "    </tr>\n",
       "    <tr>\n",
       "      <th>44</th>\n",
       "      <td>cpu95-19990122-03281</td>\n",
       "      <td>101.tomcatv</td>\n",
       "      <td>35.30</td>\n",
       "      <td>37.1</td>\n",
       "      <td>1998-12-01</td>\n",
       "      <td>2832.0</td>\n",
       "      <td>3.563883</td>\n",
       "    </tr>\n",
       "    <tr>\n",
       "      <th>54</th>\n",
       "      <td>cpu95-19990122-03282</td>\n",
       "      <td>101.tomcatv</td>\n",
       "      <td>43.00</td>\n",
       "      <td>49.8</td>\n",
       "      <td>1998-12-01</td>\n",
       "      <td>2832.0</td>\n",
       "      <td>3.761200</td>\n",
       "    </tr>\n",
       "    <tr>\n",
       "      <th>64</th>\n",
       "      <td>cpu95-19990122-03283</td>\n",
       "      <td>101.tomcatv</td>\n",
       "      <td>63.90</td>\n",
       "      <td>75.0</td>\n",
       "      <td>1998-12-01</td>\n",
       "      <td>2832.0</td>\n",
       "      <td>4.157319</td>\n",
       "    </tr>\n",
       "    <tr>\n",
       "      <th>...</th>\n",
       "      <td>...</td>\n",
       "      <td>...</td>\n",
       "      <td>...</td>\n",
       "      <td>...</td>\n",
       "      <td>...</td>\n",
       "      <td>...</td>\n",
       "      <td>...</td>\n",
       "    </tr>\n",
       "    <tr>\n",
       "      <th>9900</th>\n",
       "      <td>p074</td>\n",
       "      <td>101.tomcatv</td>\n",
       "      <td>3.40</td>\n",
       "      <td>4.66</td>\n",
       "      <td>1995-06-01</td>\n",
       "      <td>1553.0</td>\n",
       "      <td>1.223775</td>\n",
       "    </tr>\n",
       "    <tr>\n",
       "      <th>9910</th>\n",
       "      <td>p075</td>\n",
       "      <td>101.tomcatv</td>\n",
       "      <td>7.34</td>\n",
       "      <td>8.89</td>\n",
       "      <td>1995-11-01</td>\n",
       "      <td>1706.0</td>\n",
       "      <td>1.993339</td>\n",
       "    </tr>\n",
       "    <tr>\n",
       "      <th>9920</th>\n",
       "      <td>p076</td>\n",
       "      <td>101.tomcatv</td>\n",
       "      <td>8.46</td>\n",
       "      <td>9.86</td>\n",
       "      <td>1996-03-01</td>\n",
       "      <td>1827.0</td>\n",
       "      <td>2.135349</td>\n",
       "    </tr>\n",
       "    <tr>\n",
       "      <th>9930</th>\n",
       "      <td>p077</td>\n",
       "      <td>101.tomcatv</td>\n",
       "      <td>9.45</td>\n",
       "      <td>11.0</td>\n",
       "      <td>1996-03-01</td>\n",
       "      <td>1827.0</td>\n",
       "      <td>2.246015</td>\n",
       "    </tr>\n",
       "    <tr>\n",
       "      <th>9940</th>\n",
       "      <td>p078</td>\n",
       "      <td>101.tomcatv</td>\n",
       "      <td>4.63</td>\n",
       "      <td>6.68</td>\n",
       "      <td>1993-08-01</td>\n",
       "      <td>884.0</td>\n",
       "      <td>1.532557</td>\n",
       "    </tr>\n",
       "  </tbody>\n",
       "</table>\n",
       "<p>575 rows × 7 columns</p>\n",
       "</div>"
      ],
      "text/plain": [
       "                    testID    benchName   base  peak    hwAvail  time_delta  \\\n",
       "0     cpu95-19990104-03254  101.tomcatv  19.40  27.1 1999-01-01      2863.0   \n",
       "26    cpu95-19990118-03258  101.tomcatv  19.50  27.5 1998-11-01      2802.0   \n",
       "44    cpu95-19990122-03281  101.tomcatv  35.30  37.1 1998-12-01      2832.0   \n",
       "54    cpu95-19990122-03282  101.tomcatv  43.00  49.8 1998-12-01      2832.0   \n",
       "64    cpu95-19990122-03283  101.tomcatv  63.90  75.0 1998-12-01      2832.0   \n",
       "...                    ...          ...    ...   ...        ...         ...   \n",
       "9900                  p074  101.tomcatv   3.40  4.66 1995-06-01      1553.0   \n",
       "9910                  p075  101.tomcatv   7.34  8.89 1995-11-01      1706.0   \n",
       "9920                  p076  101.tomcatv   8.46  9.86 1996-03-01      1827.0   \n",
       "9930                  p077  101.tomcatv   9.45  11.0 1996-03-01      1827.0   \n",
       "9940                  p078  101.tomcatv   4.63  6.68 1993-08-01       884.0   \n",
       "\n",
       "      log_base  \n",
       "0     2.965273  \n",
       "26    2.970414  \n",
       "44    3.563883  \n",
       "54    3.761200  \n",
       "64    4.157319  \n",
       "...        ...  \n",
       "9900  1.223775  \n",
       "9910  1.993339  \n",
       "9920  2.135349  \n",
       "9930  2.246015  \n",
       "9940  1.532557  \n",
       "\n",
       "[575 rows x 7 columns]"
      ]
     },
     "execution_count": 11,
     "metadata": {},
     "output_type": "execute_result"
    }
   ],
   "source": [
    "#transform base to log scale \n",
    "df['log_base'] = np.log(df['base'])\n",
    "\n",
    "#Choose 101.tomcatv as benchmark\n",
    "tomcatv = df[df['benchName'] == '101.tomcatv']\n",
    "tomcatv"
   ]
  },
  {
   "cell_type": "markdown",
   "metadata": {},
   "source": [
    "Plot the data in a semi-log plot"
   ]
  },
  {
   "cell_type": "code",
   "execution_count": 12,
   "metadata": {},
   "outputs": [
    {
     "data": {
      "image/png": "[encoded data removed]",
      "text/plain": [
       "<Figure size 432x288 with 1 Axes>"
      ]
     },
     "metadata": {
      "needs_background": "light"
     },
     "output_type": "display_data"
    }
   ],
   "source": [
    "import matplotlib.pyplot as plt\n",
    "\n",
    "import numpy as np\n",
    "\n",
    "# Linear X axis, Logarithmic Y axis\n",
    "plt.plot(tomcatv['time_delta'], tomcatv['log_base'], 'o', color='black');\n",
    " \n",
    "\n",
    "# Provide the title for the semilog plot\n",
    "plt.title('Semilog Base growth over time for tomcatv benchmark ')\n",
    " \n",
    "\n",
    "# Give x axis label for the semilog plot\n",
    "plt.xlabel('Time(Day)')\n",
    "\n",
    " \n",
    "\n",
    "# Give y axis label for the semilog plot\n",
    "plt.ylabel('Base under log scale')\n",
    "\n",
    "# Display the semilog plot\n",
    "plt.show()"
   ]
  },
  {
   "cell_type": "markdown",
   "metadata": {},
   "source": [
    "Now train a linear model to fit your plot."
   ]
  },
  {
   "cell_type": "code",
   "execution_count": 13,
   "metadata": {},
   "outputs": [],
   "source": [
    "from sklearn.linear_model import LinearRegression\n",
    "from numpy import array\n",
    "\n",
    "x = array(tomcatv['time_delta'])\n",
    "x = x.reshape(-1,1)\n",
    "y = tomcatv['log_base']\n",
    "\n",
    "lr = LinearRegression()\n",
    "lr.fit(x, tomcatv['log_base'])\n",
    "y_pred = lr.predict(x)"
   ]
  },
  {
   "cell_type": "code",
   "execution_count": 14,
   "metadata": {},
   "outputs": [
    {
     "data": {
      "image/png": "[encoded data removed]",
      "text/plain": [
       "<Figure size 432x288 with 1 Axes>"
      ]
     },
     "metadata": {
      "needs_background": "light"
     },
     "output_type": "display_data"
    }
   ],
   "source": [
    "#plot our regression model \n",
    "plt.title('Semilog Base growth over time for tomcatv benchmark ')\n",
    "plt.title('Regression for semilog Base growth over time for tomcatv benchmark')\n",
    "plt.plot(tomcatv['time_delta'], y, 'o', color='black');\n",
    "plt.plot(tomcatv['time_delta'],y_pred  ,color='orange')\n",
    "# Give x axis label for the semilog plot\n",
    "plt.xlabel('Time(Day)')\n",
    "# Give y axis label for the semilog plot\n",
    "plt.ylabel('Base under log scale')\n",
    "plt.show()"
   ]
  },
  {
   "cell_type": "code",
   "execution_count": 15,
   "metadata": {},
   "outputs": [
    {
     "data": {
      "text/html": [
       "<div>\n",
       "<style scoped>\n",
       "    .dataframe tbody tr th:only-of-type {\n",
       "        vertical-align: middle;\n",
       "    }\n",
       "\n",
       "    .dataframe tbody tr th {\n",
       "        vertical-align: top;\n",
       "    }\n",
       "\n",
       "    .dataframe thead th {\n",
       "        text-align: right;\n",
       "    }\n",
       "</style>\n",
       "<table border=\"1\" class=\"dataframe\">\n",
       "  <thead>\n",
       "    <tr style=\"text-align: right;\">\n",
       "      <th></th>\n",
       "      <th>Coefficient</th>\n",
       "    </tr>\n",
       "  </thead>\n",
       "  <tbody>\n",
       "    <tr>\n",
       "      <th>time_delta</th>\n",
       "      <td>0.001126</td>\n",
       "    </tr>\n",
       "    <tr>\n",
       "      <th>intercept</th>\n",
       "      <td>0.322525</td>\n",
       "    </tr>\n",
       "  </tbody>\n",
       "</table>\n",
       "</div>"
      ],
      "text/plain": [
       "            Coefficient\n",
       "time_delta     0.001126\n",
       "intercept      0.322525"
      ]
     },
     "execution_count": 15,
     "metadata": {},
     "output_type": "execute_result"
    }
   ],
   "source": [
    "coeff_parameter = pd.DataFrame(lr.coef_, ['time_delta'],columns=['Coefficient'])\n",
    "coeff_parameter.loc['intercept', :] = lr.intercept_\n",
    "coeff_parameter"
   ]
  },
  {
   "cell_type": "code",
   "execution_count": 16,
   "metadata": {},
   "outputs": [
    {
     "name": "stdout",
     "output_type": "stream",
     "text": [
      "Mean squared error: 0.58\n",
      "R-squared: 0.422, meaning that around 42.2% of the variance in data can be explained by our model.\n"
     ]
    }
   ],
   "source": [
    "from sklearn.metrics import mean_squared_error, r2_score\n",
    "\n",
    "# The mean squared error\n",
    "print(f'Mean squared error: {round(mean_squared_error(y, y_pred),2)}')\n",
    "# R-squared: \n",
    "print(f'R-squared: {round(r2_score(y, y_pred), 4)}, meaning that around {round(r2_score(y, y_pred)*100,2)}% of the variance in data can be explained by our model.')"
   ]
  },
  {
   "cell_type": "markdown",
   "metadata": {},
   "source": [
    "How well is Moore’s law holding up?\n",
    "\n",
    "In Moore's Law, the base should ideally increase at a rate of roughly a factor of two per year. Since, we transform the base into log scale, a linear regression should be able to predict the log base if Moore's Law holds. Through r-square, we observe that our model can roughly explain 50% of the variance for tomcatv benchmark, meaning that Moore's law hold to a certain extent but a lot of variances still exist. We can observe the same result from our Regression for semilog Base growth over time for tomcatv benchmark graph as well. "
   ]
  },
  {
   "cell_type": "markdown",
   "metadata": {},
   "source": [
    "## 2. MNIST Digits\n",
    "\n",
    "No machine learning course would be complete without using the MNIST dataset. This dataset was a hugely influential dataset of handwritten digits (0-9).\n",
    "\n",
    "http://scikit-learn.org/stable/tutorial/basic/tutorial.html\n",
    "\n",
    "Using Scikit.learn, load the MNIST digits (See here: http://scikit-learn.org/stable/modules/generated/sklearn.datasets.load_digits.html#sklearn.datasets.load_digits).\n",
    "Plot some of the examples.\n",
    "Choose two digit classes (e.g 7s and 3s) , and train a k-nearest neighbor classifier.\n",
    "Report your error rates on a held out part of the data.\n",
    "(Optional) Test your model on the full dataset (available from http://yann.lecun.com/exdb/mnist/)"
   ]
  },
  {
   "cell_type": "code",
   "execution_count": 17,
   "metadata": {},
   "outputs": [
    {
     "name": "stdout",
     "output_type": "stream",
     "text": [
      "(1797, 64)\n"
     ]
    }
   ],
   "source": [
    "from sklearn.datasets import load_digits\n",
    "digits = load_digits()\n",
    "print(digits.data.shape)"
   ]
  },
  {
   "cell_type": "markdown",
   "metadata": {},
   "source": [
    "Plot some of the examples."
   ]
  },
  {
   "cell_type": "code",
   "execution_count": 18,
   "metadata": {},
   "outputs": [
    {
     "data": {
      "image/png": "[encoded data removed]",
      "text/plain": [
       "<Figure size 1080x216 with 10 Axes>"
      ]
     },
     "metadata": {
      "needs_background": "light"
     },
     "output_type": "display_data"
    }
   ],
   "source": [
    "import matplotlib.pyplot as plt\n",
    "_, axes = plt.subplots(nrows=1, ncols=10, figsize=(15, 3))\n",
    "for ax, image, label in zip(axes, digits.images, digits.target):\n",
    "    ax.set_axis_off()\n",
    "    ax.imshow(image, cmap=plt.cm.gray_r, interpolation='nearest')\n",
    "    ax.set_title('Training: %i' % label)"
   ]
  },
  {
   "cell_type": "markdown",
   "metadata": {},
   "source": [
    "Choose two digit classes (e.g. 7s and 3s), and train a k-nearest neighbor classifier."
   ]
  },
  {
   "cell_type": "code",
   "execution_count": 19,
   "metadata": {},
   "outputs": [
    {
     "name": "stdout",
     "output_type": "stream",
     "text": [
      "(1797, 64) (1797,)\n",
      "[0 1 2 ... 8 9 8]\n"
     ]
    }
   ],
   "source": [
    "import numpy as np\n",
    "import pandas as pd\n",
    "import pprint\n",
    "from sklearn.datasets import load_digits\n",
    "from IPython.display import display, HTML\n",
    "from sklearn.neighbors import KNeighborsClassifier\n",
    "from sklearn.metrics import classification_report\n",
    "from sklearn.model_selection import train_test_split\n",
    "X = digits.data \n",
    "y = digits.target #from 0 till 9 digits \n",
    "trainData,testData,trainLabel,testLabel = train_test_split(X, y, test_size=0.25, random_state=123)\n",
    "\n",
    "print(X.shape, y.shape)\n",
    "print(y)"
   ]
  },
  {
   "cell_type": "code",
   "execution_count": 20,
   "metadata": {},
   "outputs": [
    {
     "data": {
      "text/plain": [
       "Counter({0: 178,\n",
       "         1: 182,\n",
       "         2: 177,\n",
       "         3: 183,\n",
       "         4: 181,\n",
       "         5: 182,\n",
       "         6: 181,\n",
       "         7: 179,\n",
       "         8: 174,\n",
       "         9: 180})"
      ]
     },
     "execution_count": 20,
     "metadata": {},
     "output_type": "execute_result"
    }
   ],
   "source": [
    "#Count the number of occurances\n",
    "from collections import Counter\n",
    "Counter(y)"
   ]
  },
  {
   "cell_type": "code",
   "execution_count": 21,
   "metadata": {},
   "outputs": [
    {
     "data": {
      "text/plain": [
       "array([[ 0.,  0.,  5., ...,  0.,  0.,  0.],\n",
       "       [ 0.,  0.,  0., ..., 10.,  0.,  0.],\n",
       "       [ 0.,  0.,  0., ..., 16.,  9.,  0.],\n",
       "       ...,\n",
       "       [ 0.,  0.,  1., ...,  6.,  0.,  0.],\n",
       "       [ 0.,  0.,  2., ..., 12.,  0.,  0.],\n",
       "       [ 0.,  0., 10., ..., 12.,  1.,  0.]])"
      ]
     },
     "execution_count": 21,
     "metadata": {},
     "output_type": "execute_result"
    }
   ],
   "source": [
    "X"
   ]
  },
  {
   "cell_type": "code",
   "execution_count": 22,
   "metadata": {},
   "outputs": [],
   "source": [
    "#Choose 8 and 3 as the digit cases \n",
    "index = []\n",
    "\n",
    "for i in range(len(y)):\n",
    "    if y[i] == 3 or y[i] == 8: \n",
    "        index.append(i)\n",
    "new_x = X[index]\n",
    "new_y = y[index]"
   ]
  },
  {
   "cell_type": "markdown",
   "metadata": {},
   "source": [
    "#### Choose the optimal k for KNN model "
   ]
  },
  {
   "cell_type": "code",
   "execution_count": 23,
   "metadata": {},
   "outputs": [
    {
     "name": "stdout",
     "output_type": "stream",
     "text": [
      "Minimum error: 0.005714285714285714 at K = 1\n"
     ]
    },
    {
     "data": {
      "image/png": "[encoded data removed]",
      "text/plain": [
       "<Figure size 720x432 with 1 Axes>"
      ]
     },
     "metadata": {
      "needs_background": "light"
     },
     "output_type": "display_data"
    }
   ],
   "source": [
    "from sklearn.model_selection import KFold\n",
    "\n",
    "error_rate = []\n",
    "N= 30\n",
    "\n",
    "# Using k-fold crossing Validation\n",
    "cv = KFold(n_splits=10)\n",
    "\n",
    "acuracy_ = []\n",
    "k_=[]\n",
    "\n",
    "\n",
    "for i in range(1,N):\n",
    "    score = []\n",
    "    for train_index, test_index in cv.split(new_x, new_y):\n",
    "        X_train, X_test = new_x[train_index], new_x[test_index]\n",
    "        Y_train, Y_test = new_y[train_index], new_y[test_index]\n",
    "        knn = KNeighborsClassifier(n_neighbors=i)\n",
    "        knn.fit(X_train,Y_train)\n",
    "        pred_i = knn.predict(X_test)\n",
    "        score.append(np.mean(pred_i != Y_test)) \n",
    "        #score for error rate = # of data point in the wrong group / # of total data points \n",
    "    error_rate.append(np.mean(score))\n",
    "        \n",
    "\n",
    "plt.figure(figsize=(10,6))\n",
    "plt.plot(range(1,N),error_rate,color='blue', linestyle='dashed', \n",
    "         marker='o',markerfacecolor='red', markersize=10)\n",
    "plt.title('Error Rate vs. K Value')\n",
    "plt.xlabel('K')\n",
    "plt.ylabel('Error Rate')\n",
    "print(\"Minimum error:\",min(error_rate),\"at K =\",error_rate.index(min(error_rate))+1)"
   ]
  },
  {
   "cell_type": "markdown",
   "metadata": {},
   "source": [
    "From the error rate graph, we choose K = 1 since it has the lowest error rate around 0.5%."
   ]
  },
  {
   "cell_type": "code",
   "execution_count": 24,
   "metadata": {},
   "outputs": [
    {
     "name": "stdout",
     "output_type": "stream",
     "text": [
      "              precision    recall  f1-score   support\n",
      "\n",
      "           3       1.00      0.98      0.99        48\n",
      "           8       0.98      1.00      0.99        42\n",
      "\n",
      "    accuracy                           0.99        90\n",
      "   macro avg       0.99      0.99      0.99        90\n",
      "weighted avg       0.99      0.99      0.99        90\n",
      "\n"
     ]
    }
   ],
   "source": [
    "trainData,testData,trainLabel,testLabel = train_test_split(new_x, new_y, test_size=0.25, random_state=123)\n",
    "knn = KNeighborsClassifier(n_neighbors=1)\n",
    "knn.fit(trainData,trainLabel)\n",
    "predictions = knn.predict(testData)\n",
    "print(classification_report(testLabel,predictions))\n"
   ]
  },
  {
   "cell_type": "markdown",
   "metadata": {},
   "source": [
    "Report your error rates on a held out part of the data."
   ]
  },
  {
   "cell_type": "markdown",
   "metadata": {},
   "source": [
    "- accuracy = (# classified correct) / (# classified total)\n",
    "- error rate = 1 - accuracy \n",
    "\n",
    "For digit 3 and 8: \n",
    "- error rate = 1 - accuracy = 1- 0.99 = 0.01\n",
    "\n",
    "If we look at 3 and 8 respectively, we will see that recall for 3 is 0.98, indicating that some of the 3 hasn't been captured. Looking at the presicion for 8, it shows that some 3 is captured as 8. "
   ]
  },
  {
   "cell_type": "code",
   "execution_count": 26,
   "metadata": {},
   "outputs": [],
   "source": [
    "import gzip\n",
    "\n",
    "def read_images(filepath):\n",
    "    with gzip.open(filepath, 'r') as f:\n",
    "        # first 4 bytes is a magic number\n",
    "        magic_number = int.from_bytes(f.read(4), 'big')\n",
    "        # second 4 bytes is the number of images\n",
    "        image_count = int.from_bytes(f.read(4), 'big')\n",
    "        # third 4 bytes is the row count\n",
    "        row_count = int.from_bytes(f.read(4), 'big')\n",
    "        # fourth 4 bytes is the column count\n",
    "        column_count = int.from_bytes(f.read(4), 'big')\n",
    "        # rest is the image pixel data, each pixel is stored as an unsigned byte\n",
    "        # pixel values are 0 to 255\n",
    "        image_data = f.read()\n",
    "        images = np.frombuffer(image_data, dtype=np.uint8)\\\n",
    "            .reshape((image_count, row_count, column_count))\n",
    "        return images\n",
    "\n",
    "train_digits = read_images('/Users/swimmingcircle/cs156_code/assignments/assignment_1/digit_dataset/train-images-idx3-ubyte.gz')\n",
    "test_digits = read_images('/Users/swimmingcircle/cs156_code/assignments/assignment_1/digit_dataset/t10k-images-idx3-ubyte.gz')"
   ]
  },
  {
   "cell_type": "code",
   "execution_count": 27,
   "metadata": {},
   "outputs": [
    {
     "data": {
      "image/png": "[encoded data removed]",
      "text/plain": [
       "<Figure size 432x288 with 1 Axes>"
      ]
     },
     "metadata": {
      "needs_background": "light"
     },
     "output_type": "display_data"
    }
   ],
   "source": [
    "import matplotlib.pyplot as plt\n",
    "image = np.asarray(train_digits[1]).squeeze()\n",
    "plt.imshow(image)\n",
    "plt.show()"
   ]
  },
  {
   "cell_type": "code",
   "execution_count": 28,
   "metadata": {},
   "outputs": [],
   "source": [
    "def read_labels(filepath):\n",
    "    with gzip.open(filepath, 'r') as f:\n",
    "        # first 4 bytes is a magic number\n",
    "        magic_number = int.from_bytes(f.read(4), 'big')\n",
    "        # second 4 bytes is the number of labels\n",
    "        label_count = int.from_bytes(f.read(4), 'big')\n",
    "        # rest is the label data, each label is stored as unsigned byte\n",
    "        # label values are 0 to 9\n",
    "        label_data = f.read()\n",
    "        labels = np.frombuffer(label_data, dtype=np.uint8)\n",
    "        return labels\n",
    "\n",
    "train_labels = read_labels('/Users/swimmingcircle/cs156_code/assignments/assignment_1/digit_dataset/train-labels-idx1-ubyte.gz')\n",
    "test_labels = read_labels('/Users/swimmingcircle/cs156_code/assignments/assignment_1/digit_dataset/t10k-labels-idx1-ubyte.gz')"
   ]
  },
  {
   "cell_type": "code",
   "execution_count": 29,
   "metadata": {},
   "outputs": [],
   "source": [
    "#Reshape the data into similar format as we have done above\n",
    "train_digits = train_digits.reshape(60000, 784)\n",
    "test_digits = test_digits.reshape(10000, 784)"
   ]
  },
  {
   "cell_type": "code",
   "execution_count": 30,
   "metadata": {},
   "outputs": [],
   "source": [
    "#Choose 8 and 3 as the digit cases \n",
    "index = []\n",
    "\n",
    "for i in range(len(train_labels)):\n",
    "    if train_labels[i] == 3 or train_labels[i] == 8: \n",
    "        index.append(i)\n",
    "train_x = train_digits[index]\n",
    "train_y = train_labels[index]"
   ]
  },
  {
   "cell_type": "code",
   "execution_count": 31,
   "metadata": {},
   "outputs": [
    {
     "name": "stdout",
     "output_type": "stream",
     "text": [
      "Minimum error: 0.011767736330080297 at K = 3\n"
     ]
    },
    {
     "data": {
      "image/png": "[encoded data removed]",
      "text/plain": [
       "<Figure size 720x432 with 1 Axes>"
      ]
     },
     "metadata": {
      "needs_background": "light"
     },
     "output_type": "display_data"
    }
   ],
   "source": [
    "from sklearn.model_selection import KFold\n",
    "from tqdm import tqdm\n",
    "\n",
    "error_rate = []\n",
    "N= 15\n",
    "\n",
    "# Using k-fold crossing Validation\n",
    "cv = KFold(n_splits=10)\n",
    "\n",
    "acuracy_ = []\n",
    "k_=[]\n",
    "\n",
    "for i in range(1,N):\n",
    "    score = []\n",
    "    for train_index, test_index in cv.split(train_x, train_y):\n",
    "        X_train, X_test = train_x[train_index], train_x[test_index]\n",
    "        Y_train, Y_test = train_y[train_index], train_y[test_index]\n",
    "        knn = KNeighborsClassifier(n_neighbors=i)\n",
    "        knn.fit(X_train,Y_train)\n",
    "        pred_i = knn.predict(X_test)\n",
    "        score.append(np.mean(pred_i != Y_test)) \n",
    "        #score for error rate = # of data point in the wrong group / # of total data points \n",
    "    error_rate.append(np.mean(score))\n",
    "        \n",
    "plt.figure(figsize=(10,6))\n",
    "plt.plot(range(1,N),error_rate,color='blue', linestyle='dashed', \n",
    "         marker='o',markerfacecolor='red', markersize=10)\n",
    "plt.title('Error Rate vs. K Value')\n",
    "plt.xlabel('K')\n",
    "plt.ylabel('Error Rate')\n",
    "print(\"Minimum error:\",min(error_rate),\"at K =\",error_rate.index(min(error_rate))+1)"
   ]
  },
  {
   "cell_type": "markdown",
   "metadata": {},
   "source": [
    "From the error rate graph, we choose K = 3 since it has the lowest error rate around 1%. "
   ]
  },
  {
   "cell_type": "code",
   "execution_count": 32,
   "metadata": {},
   "outputs": [],
   "source": [
    "#Find 3 and 8 from test data\n",
    "index = []\n",
    "for i in range(len(test_labels)):\n",
    "    if test_labels[i] == 3 or test_labels[i] == 8: \n",
    "        index.append(i)\n",
    "test_x = test_digits[index]\n",
    "test_y = test_labels[index]"
   ]
  },
  {
   "cell_type": "code",
   "execution_count": 33,
   "metadata": {},
   "outputs": [
    {
     "name": "stdout",
     "output_type": "stream",
     "text": [
      "              precision    recall  f1-score   support\n",
      "\n",
      "           3       0.98      1.00      0.99      1010\n",
      "           8       1.00      0.98      0.99       974\n",
      "\n",
      "    accuracy                           0.99      1984\n",
      "   macro avg       0.99      0.99      0.99      1984\n",
      "weighted avg       0.99      0.99      0.99      1984\n",
      "\n"
     ]
    }
   ],
   "source": [
    "knn = KNeighborsClassifier(n_neighbors=3)\n",
    "knn.fit(train_x,train_y)\n",
    "predictions = knn.predict(test_x)\n",
    "print(classification_report(test_y,predictions))\n"
   ]
  },
  {
   "cell_type": "markdown",
   "metadata": {},
   "source": [
    "The overall accuracy is 0.99. If we look at 3 and 8 respectively, we will see that recall for 8 is 0.98, indicating that some of the 8 hasn't been captured. Looking at the presicion for 3, it shows that some 8 is captured as 3. "
   ]
  },
  {
   "cell_type": "markdown",
   "metadata": {},
   "source": [
    "- Resources: \n",
    "  - Preclass workbook\n",
    "  - How to find the optimal value of K in KNN?\n",
    ": https://towardsdatascience.com/how-to-find-the-optimal-value-of-k-in-knn-35d936e554eb\n",
    "  - Read and show MNIST data\n",
    ": https://www.kaggle.com/n4srin/read-and-show-mnist-data\n"
   ]
  }
 ],
 "metadata": {
  "kernelspec": {
   "display_name": "Python 3",
   "language": "python",
   "name": "python3"
  },
  "language_info": {
   "codemirror_mode": {
    "name": "ipython",
    "version": 3
   },
   "file_extension": ".py",
   "mimetype": "text/x-python",
   "name": "python",
   "nbconvert_exporter": "python",
   "pygments_lexer": "ipython3",
   "version": "3.9.1"
  }
 },
 "nbformat": 4,
 "nbformat_minor": 2
}
