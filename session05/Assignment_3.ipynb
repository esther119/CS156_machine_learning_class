{
 "cells": [
  {
   "cell_type": "markdown",
   "metadata": {},
   "source": [
    "## Data cleaning, wrangling, and create dataframe "
   ]
  },
  {
   "cell_type": "markdown",
   "metadata": {},
   "source": [
    "To get detailed information from the dataset, we convert to datetime into day of the year, and convert hours into minute of the day, because we expect tempature is relevant to daily and seasonal flunctuation. "
   ]
  },
  {
   "cell_type": "code",
   "execution_count": 1,
   "metadata": {},
   "outputs": [],
   "source": [
    "import numpy as np\n",
    "from sklearn.metrics import r2_score, mean_squared_error\n",
    "import matplotlib.pyplot as plt\n",
    "from sklearn import linear_model\n",
    "from datetime import datetime\n",
    "import pandas as pd\n",
    "\n",
    "\n",
    "def create_df(years): \n",
    "\n",
    "    files = ['/Users/swimmingcircle/cs156_code/session05/CRNS0101-05-%d-CA_Yosemite_Village_12_W.txt' % y for y in years]\n",
    "    usecols = [1, 2, 8] #column 1: year, 2: hour, 8: temp\n",
    "\n",
    "    data = [np.loadtxt(f, usecols=usecols) for f in files]\n",
    "    data = np.vstack(data)\n",
    "\n",
    "    # Map from HHmm to an integer\n",
    "    data[:, 1] = np.floor_divide(data[:, 1], 100) * 60 + np.mod(data[:, 1], 100)\n",
    "    valid = data[:, 2] > -1000\n",
    "\n",
    "    df = pd.DataFrame(data)\n",
    "\n",
    "    #filter valid date  \n",
    "    df = df[df[2] > -1000] \n",
    "    df[0] = df[0].astype(int)\n",
    "    df[3] = pd.to_datetime(df[0], format='%Y%m%d').dt.dayofyear.rename() #convert to datetime & day of the year\n",
    "\n",
    "    df[4] = df[1].apply(lambda x : np.floor_divide(x, 100) * 60 + np.mod(x, 100)) #minute of the day\n",
    "\n",
    "    df.columns = ['year', 'hour', 'temp', 'day_of_year', 'min_of_day']\n",
    "    return df\n"
   ]
  },
  {
   "cell_type": "markdown",
   "metadata": {},
   "source": [
    "## Create training and testing dataset "
   ]
  },
  {
   "cell_type": "code",
   "execution_count": 2,
   "metadata": {},
   "outputs": [],
   "source": [
    "#train data\n",
    "years_train = range(2011, 2016)\n",
    "train_df = create_df(years_train)\n",
    "\n",
    "#test data\n",
    "years_test = range(2016, 2017)\n",
    "test_df = create_df(years_test)\n"
   ]
  },
  {
   "cell_type": "code",
   "execution_count": 3,
   "metadata": {},
   "outputs": [
    {
     "data": {
      "text/html": [
       "<div>\n",
       "<style scoped>\n",
       "    .dataframe tbody tr th:only-of-type {\n",
       "        vertical-align: middle;\n",
       "    }\n",
       "\n",
       "    .dataframe tbody tr th {\n",
       "        vertical-align: top;\n",
       "    }\n",
       "\n",
       "    .dataframe thead th {\n",
       "        text-align: right;\n",
       "    }\n",
       "</style>\n",
       "<table border=\"1\" class=\"dataframe\">\n",
       "  <thead>\n",
       "    <tr style=\"text-align: right;\">\n",
       "      <th></th>\n",
       "      <th>year</th>\n",
       "      <th>hour</th>\n",
       "      <th>temp</th>\n",
       "      <th>day_of_year</th>\n",
       "      <th>min_of_day</th>\n",
       "    </tr>\n",
       "  </thead>\n",
       "  <tbody>\n",
       "    <tr>\n",
       "      <th>0</th>\n",
       "      <td>20110101</td>\n",
       "      <td>5.0</td>\n",
       "      <td>-6.4</td>\n",
       "      <td>1</td>\n",
       "      <td>5.0</td>\n",
       "    </tr>\n",
       "    <tr>\n",
       "      <th>1</th>\n",
       "      <td>20110101</td>\n",
       "      <td>10.0</td>\n",
       "      <td>-6.5</td>\n",
       "      <td>1</td>\n",
       "      <td>10.0</td>\n",
       "    </tr>\n",
       "    <tr>\n",
       "      <th>2</th>\n",
       "      <td>20110101</td>\n",
       "      <td>15.0</td>\n",
       "      <td>-6.5</td>\n",
       "      <td>1</td>\n",
       "      <td>15.0</td>\n",
       "    </tr>\n",
       "    <tr>\n",
       "      <th>3</th>\n",
       "      <td>20110101</td>\n",
       "      <td>20.0</td>\n",
       "      <td>-6.5</td>\n",
       "      <td>1</td>\n",
       "      <td>20.0</td>\n",
       "    </tr>\n",
       "    <tr>\n",
       "      <th>4</th>\n",
       "      <td>20110101</td>\n",
       "      <td>25.0</td>\n",
       "      <td>-6.7</td>\n",
       "      <td>1</td>\n",
       "      <td>25.0</td>\n",
       "    </tr>\n",
       "    <tr>\n",
       "      <th>...</th>\n",
       "      <td>...</td>\n",
       "      <td>...</td>\n",
       "      <td>...</td>\n",
       "      <td>...</td>\n",
       "      <td>...</td>\n",
       "    </tr>\n",
       "    <tr>\n",
       "      <th>525883</th>\n",
       "      <td>20151231</td>\n",
       "      <td>1420.0</td>\n",
       "      <td>-1.4</td>\n",
       "      <td>365</td>\n",
       "      <td>860.0</td>\n",
       "    </tr>\n",
       "    <tr>\n",
       "      <th>525884</th>\n",
       "      <td>20151231</td>\n",
       "      <td>1425.0</td>\n",
       "      <td>-1.6</td>\n",
       "      <td>365</td>\n",
       "      <td>865.0</td>\n",
       "    </tr>\n",
       "    <tr>\n",
       "      <th>525885</th>\n",
       "      <td>20151231</td>\n",
       "      <td>1430.0</td>\n",
       "      <td>-1.4</td>\n",
       "      <td>365</td>\n",
       "      <td>870.0</td>\n",
       "    </tr>\n",
       "    <tr>\n",
       "      <th>525886</th>\n",
       "      <td>20151231</td>\n",
       "      <td>1435.0</td>\n",
       "      <td>-1.6</td>\n",
       "      <td>365</td>\n",
       "      <td>875.0</td>\n",
       "    </tr>\n",
       "    <tr>\n",
       "      <th>525887</th>\n",
       "      <td>20160101</td>\n",
       "      <td>0.0</td>\n",
       "      <td>-1.6</td>\n",
       "      <td>1</td>\n",
       "      <td>0.0</td>\n",
       "    </tr>\n",
       "  </tbody>\n",
       "</table>\n",
       "<p>525480 rows × 5 columns</p>\n",
       "</div>"
      ],
      "text/plain": [
       "            year    hour  temp  day_of_year  min_of_day\n",
       "0       20110101     5.0  -6.4            1         5.0\n",
       "1       20110101    10.0  -6.5            1        10.0\n",
       "2       20110101    15.0  -6.5            1        15.0\n",
       "3       20110101    20.0  -6.5            1        20.0\n",
       "4       20110101    25.0  -6.7            1        25.0\n",
       "...          ...     ...   ...          ...         ...\n",
       "525883  20151231  1420.0  -1.4          365       860.0\n",
       "525884  20151231  1425.0  -1.6          365       865.0\n",
       "525885  20151231  1430.0  -1.4          365       870.0\n",
       "525886  20151231  1435.0  -1.6          365       875.0\n",
       "525887  20160101     0.0  -1.6            1         0.0\n",
       "\n",
       "[525480 rows x 5 columns]"
      ]
     },
     "execution_count": 3,
     "metadata": {},
     "output_type": "execute_result"
    }
   ],
   "source": [
    "train_df"
   ]
  },
  {
   "cell_type": "code",
   "execution_count": 4,
   "metadata": {},
   "outputs": [
    {
     "data": {
      "text/html": [
       "<div>\n",
       "<style scoped>\n",
       "    .dataframe tbody tr th:only-of-type {\n",
       "        vertical-align: middle;\n",
       "    }\n",
       "\n",
       "    .dataframe tbody tr th {\n",
       "        vertical-align: top;\n",
       "    }\n",
       "\n",
       "    .dataframe thead th {\n",
       "        text-align: right;\n",
       "    }\n",
       "</style>\n",
       "<table border=\"1\" class=\"dataframe\">\n",
       "  <thead>\n",
       "    <tr style=\"text-align: right;\">\n",
       "      <th></th>\n",
       "      <th>year</th>\n",
       "      <th>hour</th>\n",
       "      <th>temp</th>\n",
       "      <th>day_of_year</th>\n",
       "      <th>min_of_day</th>\n",
       "    </tr>\n",
       "  </thead>\n",
       "  <tbody>\n",
       "    <tr>\n",
       "      <th>0</th>\n",
       "      <td>20110101</td>\n",
       "      <td>5.0</td>\n",
       "      <td>-6.4</td>\n",
       "      <td>1</td>\n",
       "      <td>5.0</td>\n",
       "    </tr>\n",
       "    <tr>\n",
       "      <th>1</th>\n",
       "      <td>20110101</td>\n",
       "      <td>10.0</td>\n",
       "      <td>-6.5</td>\n",
       "      <td>1</td>\n",
       "      <td>10.0</td>\n",
       "    </tr>\n",
       "    <tr>\n",
       "      <th>2</th>\n",
       "      <td>20110101</td>\n",
       "      <td>15.0</td>\n",
       "      <td>-6.5</td>\n",
       "      <td>1</td>\n",
       "      <td>15.0</td>\n",
       "    </tr>\n",
       "    <tr>\n",
       "      <th>3</th>\n",
       "      <td>20110101</td>\n",
       "      <td>20.0</td>\n",
       "      <td>-6.5</td>\n",
       "      <td>1</td>\n",
       "      <td>20.0</td>\n",
       "    </tr>\n",
       "    <tr>\n",
       "      <th>4</th>\n",
       "      <td>20110101</td>\n",
       "      <td>25.0</td>\n",
       "      <td>-6.7</td>\n",
       "      <td>1</td>\n",
       "      <td>25.0</td>\n",
       "    </tr>\n",
       "    <tr>\n",
       "      <th>...</th>\n",
       "      <td>...</td>\n",
       "      <td>...</td>\n",
       "      <td>...</td>\n",
       "      <td>...</td>\n",
       "      <td>...</td>\n",
       "    </tr>\n",
       "    <tr>\n",
       "      <th>525883</th>\n",
       "      <td>20151231</td>\n",
       "      <td>1420.0</td>\n",
       "      <td>-1.4</td>\n",
       "      <td>365</td>\n",
       "      <td>860.0</td>\n",
       "    </tr>\n",
       "    <tr>\n",
       "      <th>525884</th>\n",
       "      <td>20151231</td>\n",
       "      <td>1425.0</td>\n",
       "      <td>-1.6</td>\n",
       "      <td>365</td>\n",
       "      <td>865.0</td>\n",
       "    </tr>\n",
       "    <tr>\n",
       "      <th>525885</th>\n",
       "      <td>20151231</td>\n",
       "      <td>1430.0</td>\n",
       "      <td>-1.4</td>\n",
       "      <td>365</td>\n",
       "      <td>870.0</td>\n",
       "    </tr>\n",
       "    <tr>\n",
       "      <th>525886</th>\n",
       "      <td>20151231</td>\n",
       "      <td>1435.0</td>\n",
       "      <td>-1.6</td>\n",
       "      <td>365</td>\n",
       "      <td>875.0</td>\n",
       "    </tr>\n",
       "    <tr>\n",
       "      <th>525887</th>\n",
       "      <td>20160101</td>\n",
       "      <td>0.0</td>\n",
       "      <td>-1.6</td>\n",
       "      <td>1</td>\n",
       "      <td>0.0</td>\n",
       "    </tr>\n",
       "  </tbody>\n",
       "</table>\n",
       "<p>525480 rows × 5 columns</p>\n",
       "</div>"
      ],
      "text/plain": [
       "            year    hour  temp  day_of_year  min_of_day\n",
       "0       20110101     5.0  -6.4            1         5.0\n",
       "1       20110101    10.0  -6.5            1        10.0\n",
       "2       20110101    15.0  -6.5            1        15.0\n",
       "3       20110101    20.0  -6.5            1        20.0\n",
       "4       20110101    25.0  -6.7            1        25.0\n",
       "...          ...     ...   ...          ...         ...\n",
       "525883  20151231  1420.0  -1.4          365       860.0\n",
       "525884  20151231  1425.0  -1.6          365       865.0\n",
       "525885  20151231  1430.0  -1.4          365       870.0\n",
       "525886  20151231  1435.0  -1.6          365       875.0\n",
       "525887  20160101     0.0  -1.6            1         0.0\n",
       "\n",
       "[525480 rows x 5 columns]"
      ]
     },
     "execution_count": 4,
     "metadata": {},
     "output_type": "execute_result"
    }
   ],
   "source": [
    "train_df"
   ]
  },
  {
   "cell_type": "code",
   "execution_count": 5,
   "metadata": {},
   "outputs": [
    {
     "data": {
      "image/png": "[encoded data removed]",
      "text/plain": [
       "<Figure size 432x288 with 1 Axes>"
      ]
     },
     "metadata": {
      "needs_background": "light"
     },
     "output_type": "display_data"
    },
    {
     "data": {
      "image/png": "[encoded data removed]",
      "text/plain": [
       "<Figure size 432x288 with 1 Axes>"
      ]
     },
     "metadata": {
      "needs_background": "light"
     },
     "output_type": "display_data"
    }
   ],
   "source": [
    "#check temparature \n",
    "plt.hist(train_df[\"temp\"])\n",
    "plt.title('temparature distribution for training dataset')\n",
    "plt.xlabel(\"Air Temperature\")\n",
    "plt.ylabel(\"Frequency\")\n",
    "plt.show()\n",
    "\n",
    "plt.hist(test_df[\"temp\"])\n",
    "plt.title('temparature distribution for testing dataset')\n",
    "plt.xlabel(\"Air Temperature\")\n",
    "plt.ylabel(\"Frequency\")\n",
    "plt.show()"
   ]
  },
  {
   "cell_type": "markdown",
   "metadata": {},
   "source": [
    "We can observe that for both training and testing dataset, the temparature follows a normal distribution, ranging from -10 to 30 degree."
   ]
  },
  {
   "cell_type": "code",
   "execution_count": 6,
   "metadata": {},
   "outputs": [
    {
     "data": {
      "image/png": "[encoded data removed]",
      "text/plain": [
       "<Figure size 432x288 with 1 Axes>"
      ]
     },
     "metadata": {
      "needs_background": "light"
     },
     "output_type": "display_data"
    },
    {
     "data": {
      "image/png": "[encoded data removed]",
      "text/plain": [
       "<Figure size 432x288 with 1 Axes>"
      ]
     },
     "metadata": {
      "needs_background": "light"
     },
     "output_type": "display_data"
    }
   ],
   "source": [
    "#Investigate min_of_day and day_of_year\n",
    "plt.boxplot(train_df[['min_of_day']])\n",
    "plt.title('Box plot for minutes of the day')\n",
    "plt.show()\n",
    "plt.boxplot(train_df[['day_of_year']])\n",
    "plt.title('Box plot for day of the year')\n",
    "plt.show()"
   ]
  },
  {
   "cell_type": "markdown",
   "metadata": {},
   "source": [
    "Through the range of the boxplot, we can see that our data wrangling process is correct, and the data aren't skewed for both variables"
   ]
  },
  {
   "cell_type": "markdown",
   "metadata": {},
   "source": [
    "## Use linear model to train the data"
   ]
  },
  {
   "cell_type": "code",
   "execution_count": 7,
   "metadata": {},
   "outputs": [
    {
     "name": "stdout",
     "output_type": "stream",
     "text": [
      "The R-squared for linear regression training date: 0.04957141756322214\n",
      "The R-squared for linear regression testing date: 0.058666161484717816\n"
     ]
    }
   ],
   "source": [
    "# fit a linear model on training and testing dataset without using kernel \n",
    "\n",
    "regr_1 = linear_model.LinearRegression()\n",
    "regr_1.fit(train_df[['day_of_year','min_of_day']], train_df[['temp']])\n",
    "\n",
    "y__pred_train = regr_1.predict(train_df[['day_of_year','min_of_day']])\n",
    "y_pred_test = regr_1.predict(test_df[['day_of_year','min_of_day']])\n",
    "print(\"The R-squared for linear regression training date:\", r2_score(train_df[['temp']], y__pred_train))\n",
    "print(\"The R-squared for linear regression testing date:\", r2_score(test_df[['temp']], y_pred_test))\n"
   ]
  },
  {
   "cell_type": "markdown",
   "metadata": {},
   "source": [
    "We can see that R-square for training data is only around 5%, meaning that only 4% of the variance can be explained by the model. Similarly, R-square for training data is only 6%. It shows that the model doesn't really able to predict the temparature. "
   ]
  },
  {
   "cell_type": "markdown",
   "metadata": {},
   "source": [
    "## Train the model by using two variables, days of the year and minutes of the day in the rbf kernel "
   ]
  },
  {
   "cell_type": "markdown",
   "metadata": {},
   "source": [
    "We apply two modification here. \n",
    "- Apply rbf: We test out kernel to separate the data. Here, we adopt rbf_kernel to project data to higher dimensions. Ridge regression will calculate the distance between the centers with ever x input we have, and create distributions on every center, allowing squiggly regression line. \n",
    "- Replace linear ridge regression with ridge regression: Ridge regression add e(the bias parameters) to tackle multicollinearity. We use the Rdige regression to regularize (\"shrink\") coefficients, so it will avoid over-fitting. \n"
   ]
  },
  {
   "cell_type": "code",
   "execution_count": 8,
   "metadata": {},
   "outputs": [],
   "source": [
    "from sklearn.metrics.pairwise import rbf_kernel\n",
    "from sklearn.linear_model import Ridge\n",
    "\n",
    "\n",
    "def apply_kernel(df, c1, c2):\n",
    "\n",
    "    '''Apply kernel function to the data, with different numbers of centers, c1, c2'''\n",
    "    #use kernel function to transform both variable \n",
    "    x_day = df[['day_of_year']]\n",
    "    x_min = df[['min_of_day']]\n",
    "\n",
    "    y_train = np.asarray(df[['temp']]).reshape(-1, 1)\n",
    "    sigma = 1000\n",
    "    alpha = 0.01\n",
    "\n",
    "    #create centers for the kernel\n",
    "    center_day = [i for i in range(10, 370, c1)]\n",
    "    center_min = [i for i in range(10, 1440, c2)]\n",
    "    center_day = np.asarray(center_day).reshape(-1, 1)\n",
    "    center_min = np.asarray(center_min).reshape(-1, 1)\n",
    "\n",
    "    #Use rbf function to create new x \n",
    "    kernel_day = rbf_kernel(x_day, center_day, gamma=1.0 / sigma)\n",
    "    kernel_min = rbf_kernel(x_min, center_min, gamma=1.0 / sigma)\n",
    "\n",
    "    #x after applying the kernel \n",
    "    kernel_x = np.hstack((kernel_day,kernel_min))\n",
    "    return kernel_x\n",
    "\n",
    "c1 = c2 = 10 \n",
    "train_kernel = apply_kernel(train_df, c1, c2)\n"
   ]
  },
  {
   "cell_type": "code",
   "execution_count": 9,
   "metadata": {},
   "outputs": [
    {
     "name": "stdout",
     "output_type": "stream",
     "text": [
      "After applying the rbf kernel, the R-squared for linear regression training date: 0.6234749968780156\n"
     ]
    }
   ],
   "source": [
    "alpha = 0.01\n",
    "regr_2 = Ridge(alpha=alpha, fit_intercept=False)\n",
    "regr_2.fit(train_kernel, train_df[['temp']])\n",
    "print(\"After applying the rbf kernel, the R-squared for linear regression training date:\", regr_2.score(train_kernel, train_df[['temp']]))"
   ]
  },
  {
   "cell_type": "code",
   "execution_count": 10,
   "metadata": {},
   "outputs": [
    {
     "name": "stdout",
     "output_type": "stream",
     "text": [
      "After applying the rbf kernel, the R-squared for linear regression testing date: 0.7002619973697294\n"
     ]
    }
   ],
   "source": [
    "test_kernel = apply_kernel(test_df,c1, c2)\n",
    "regr_2.fit(test_kernel, test_df[['temp']])\n",
    "print(\"After applying the rbf kernel, the R-squared for linear regression testing date:\", regr_2.score(test_kernel, test_df[['temp']]))\n"
   ]
  },
  {
   "cell_type": "markdown",
   "metadata": {},
   "source": [
    "After applying rbf kernel to both variables, we can see that R-squared drastically rises, the model now can explain around 62% of the data, and around 70% of the testing data. "
   ]
  },
  {
   "cell_type": "markdown",
   "metadata": {},
   "source": [
    "## Test different rbf function "
   ]
  },
  {
   "cell_type": "code",
   "execution_count": 18,
   "metadata": {},
   "outputs": [],
   "source": [
    "## Testing different rbf function\n",
    "\n",
    "\n",
    "max_r = 0\n",
    "best_c1 = 0 \n",
    "best_c2 = 0 \n",
    "for c1 in range(10, 50, 10):\n",
    "    for c2 in range(10, 50, 10):\n",
    "        train_kernel = apply_kernel(train_df, c1,c2)\n",
    "\n",
    "        regr_2 = Ridge(alpha=alpha, fit_intercept=False)\n",
    "        regr_2.fit(train_kernel, train_df[['temp']])\n",
    "\n",
    "        test_kernel = apply_kernel(test_df, c1,c2)\n",
    "        regr_2.fit(test_kernel, test_df[['temp']])\n",
    "        score = regr_2.score(test_kernel, test_df[['temp']])\n",
    "        if max_r < score:\n",
    "            max_r = score\n",
    "            best_c1 = c1\n",
    "            best_c2 = c2\n",
    "print('Best r square is', max_r, ' with numbers of centers for days and minutes of the year as ', (c1,c2) )\n"
   ]
  },
  {
   "cell_type": "markdown",
   "metadata": {},
   "source": [
    "We observe that adjusting the amount of centers doesn't drastically imporve our prediction. In addition, it takes a long time testing different numbers of centers, showcasing it's expensive to train the kernel. "
   ]
  },
  {
   "cell_type": "markdown",
   "metadata": {},
   "source": [
    "### Investigate contribution of days of the year"
   ]
  },
  {
   "cell_type": "code",
   "execution_count": 12,
   "metadata": {},
   "outputs": [
    {
     "name": "stdout",
     "output_type": "stream",
     "text": [
      "For day of year:\n",
      "R square for training set 0.47408704301067295\n",
      "R square for testing set 0.6558998462754665\n"
     ]
    }
   ],
   "source": [
    "def one_feature_prediction(df_train, df_test, feature, centers):\n",
    "\n",
    "    '''Investigate the R square for only using one feature, and return the model'''\n",
    "\n",
    "    #use kernel function to transform one variable \n",
    "    x = df_train[[feature]]\n",
    "\n",
    "    y_train = np.asarray(df_train[['temp']]).reshape(-1, 1)\n",
    "    sigma = 1000\n",
    "    alpha = 0.01\n",
    "\n",
    "    #create centers for the kernel\n",
    "    centers = np.asarray(centers).reshape(-1, 1)\n",
    "\n",
    "    #Use rbf function to create new x \n",
    "    train_kernel = rbf_kernel(x, centers, gamma=1.0 / sigma)\n",
    "    \n",
    "    #modelling \n",
    "    regr= Ridge(alpha=alpha, fit_intercept=False)\n",
    "    regr.fit(train_kernel, train_df[['temp']])\n",
    "    \n",
    "    test_x = df_test[[feature]]\n",
    "    test_kernel = rbf_kernel(test_x, centers, gamma=1.0 / sigma)\n",
    "    regr.fit(test_kernel, test_df[['temp']])\n",
    "    \n",
    "    print('R square for training set', regr.score(train_kernel, train_df[['temp']])) \n",
    "    print('R square for testing set', regr.score(test_kernel, test_df[['temp']])) \n",
    "\n",
    "    return regr\n",
    "\n",
    "day_of_year = 'day_of_year'\n",
    "center_day = [i for i in range(10, 370, 10)]\n",
    "print('For day of year:') \n",
    "reg_day = one_feature_prediction(train_df, test_df, day_of_year, center_day)\n",
    "\n"
   ]
  },
  {
   "cell_type": "code",
   "execution_count": 13,
   "metadata": {},
   "outputs": [],
   "source": [
    "#prediction for testing dataset  \n",
    "sigma = 1000\n",
    "x_day = np.linspace(-3.0, 370.0, 1000).reshape(-1, 1)\n",
    "center_day = [i for i in range(10, 370, 10)]\n",
    "center_day = np.asarray(center_day).reshape(-1, 1)\n",
    "\n",
    "day_test_kernel = rbf_kernel(x_day, center_day, gamma=1.0 / sigma)\n",
    "pred_y = reg_day.predict(day_test_kernel)\n",
    "\n"
   ]
  },
  {
   "cell_type": "code",
   "execution_count": 14,
   "metadata": {},
   "outputs": [
    {
     "data": {
      "image/png": "[encoded data removed]",
      "text/plain": [
       "<Figure size 864x432 with 1 Axes>"
      ]
     },
     "metadata": {
      "needs_background": "light"
     },
     "output_type": "display_data"
    }
   ],
   "source": [
    "#plot the testing data set for day_of_year\n",
    "plt.figure(figsize=(12, 6))\n",
    "plt.plot(x_day, pred_y)\n",
    "plt.scatter(test_df['day_of_year'], test_df['temp'], color = 'lightblue')\n",
    "plt.xlabel(\"Day of the year\")\n",
    "plt.ylabel(\"Temperature\")\n",
    "plt.title('Temparature prediction for day of the year')\n",
    "plt.show()"
   ]
  },
  {
   "cell_type": "markdown",
   "metadata": {},
   "source": [
    "We can see that days of the years contribute around 47% of explaination to the temparatur for training dataset, and contribute around 66% of explaination to the temparatur for testing dataset. It showcases that days of the years is crucial to predict the temparature. \n",
    "\n",
    "This is confirmed by the plot above. It shows that the tempature flunctuate in different days, and the model is able to capture the overall trend."
   ]
  },
  {
   "cell_type": "markdown",
   "metadata": {},
   "source": [
    "### Investigate contribution of minutes of the day"
   ]
  },
  {
   "cell_type": "code",
   "execution_count": 15,
   "metadata": {},
   "outputs": [
    {
     "name": "stdout",
     "output_type": "stream",
     "text": [
      "For min of day:\n",
      "R square for training set 0.0439634165680004\n",
      "R square for testing set 0.044074725653252655\n"
     ]
    }
   ],
   "source": [
    "min_of_day = 'min_of_day'\n",
    "center_min = [i for i in range(10, 1440, 10)]\n",
    "print('For min of day:') \n",
    "reg_min = one_feature_prediction(train_df, test_df, min_of_day, center_min)"
   ]
  },
  {
   "cell_type": "code",
   "execution_count": 16,
   "metadata": {},
   "outputs": [
    {
     "data": {
      "image/png": "[encoded data removed]",
      "text/plain": [
       "<Figure size 864x432 with 1 Axes>"
      ]
     },
     "metadata": {
      "needs_background": "light"
     },
     "output_type": "display_data"
    }
   ],
   "source": [
    "#prediction for testing dataset  \n",
    "\n",
    "x_min = np.linspace(-3.0, 900.0, 1000).reshape(-1, 1)\n",
    "center_min = np.asarray(center_min).reshape(-1, 1)\n",
    "min_test_kernel = rbf_kernel(x_min, center_min, gamma=1.0 / sigma)\n",
    "pred_y = reg_min.predict(min_test_kernel)\n",
    "\n",
    "#plot the testing data set for min_of_day\n",
    "plt.figure(figsize=(12, 6))\n",
    "plt.plot(x_min, pred_y)\n",
    "plt.scatter(test_df['min_of_day'], test_df['temp'], color = 'lightblue')\n",
    "plt.xlabel(\"Minute of the day\")\n",
    "plt.ylabel(\"Temperature\")\n",
    "plt.title('Temparature prediction for minute of the day')\n",
    "plt.show()\n"
   ]
  },
  {
   "cell_type": "markdown",
   "metadata": {},
   "source": [
    "We can see that minutes of the days contribute around 4% of explaination to the temparatur for both training dataset and testing dataset. It showcases that days of the years isn't important to predict the temparature. \n",
    "\n",
    "This is also confirmed by the plot above. It shows that the tempature doesn't have much daily flunctuation, so the model doens't able to provide much information to predict the daily temparature. "
   ]
  },
  {
   "cell_type": "markdown",
   "metadata": {},
   "source": [
    "## Make a 3D plot showing temperature as a function of (day, time). "
   ]
  },
  {
   "cell_type": "code",
   "execution_count": 17,
   "metadata": {},
   "outputs": [],
   "source": [
    "# from mpl_toolkits.mplot3d import axes3d\n",
    "# import matplotlib.pyplot as plt\n",
    "\n",
    "# fig = plt.figure(figsize=(12, 6))\n",
    "# ax = fig.add_subplot(projection='3d')\n",
    "\n",
    "# all_x = np.concatenate([x_day, x_min],  axis = 1)\n",
    "\n",
    "# # test_prediction = regr_2.predict(all_x)\n",
    "# # Plot a basic wireframe.\n",
    "# ax.plot_wireframe(x_day, x_min, test_prediction, rstride=10, cstride=10)\n",
    "\n",
    "# plt.show()\n"
   ]
  },
  {
   "cell_type": "code",
   "execution_count": null,
   "metadata": {},
   "outputs": [],
   "source": []
  }
 ],
 "metadata": {
  "interpreter": {
   "hash": "aee8b7b246df8f9039afb4144a1f6fd8d2ca17a180786b69acc140d282b71a49"
  },
  "kernelspec": {
   "display_name": "Python 3.9.1 64-bit",
   "language": "python",
   "name": "python3"
  },
  "language_info": {
   "codemirror_mode": {
    "name": "ipython",
    "version": 3
   },
   "file_extension": ".py",
   "mimetype": "text/x-python",
   "name": "python",
   "nbconvert_exporter": "python",
   "pygments_lexer": "ipython3",
   "version": "3.9.1"
  },
  "orig_nbformat": 4
 },
 "nbformat": 4,
 "nbformat_minor": 2
}
