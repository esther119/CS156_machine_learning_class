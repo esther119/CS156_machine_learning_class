{
  "cells": [
    {
      "cell_type": "code",
      "execution_count": 1,
      "metadata": {
        "id": "oPJ87s4gcc6a"
      },
      "outputs": [],
      "source": [
        "from numpy import loadtxt\n",
        "from keras.layers import Dense\n",
        "from keras.models import Sequential\n",
        "from sklearn import datasets\n",
        "from sklearn.metrics import log_loss\n",
        "\n",
        "(moon_x,moon_y) = datasets.make_moons(n_samples=10000, noise=0.05, random_state=42)\n",
        "\n",
        "(circle_x,circle_y) = datasets.make_circles(n_samples=10000, noise=0.025, random_state=42)"
      ]
    },
    {
      "cell_type": "code",
      "execution_count": 1,
      "metadata": {
        "id": "JMOC5e4_cfJv"
      },
      "outputs": [
        {
          "ename": "NameError",
          "evalue": "name 'Sequential' is not defined",
          "output_type": "error",
          "traceback": [
            "\u001b[0;31m---------------------------------------------------------------------------\u001b[0m",
            "\u001b[0;31mNameError\u001b[0m                                 Traceback (most recent call last)",
            "\u001b[0;32m/var/folders/0h/xyv81g2n7sj6zr0c9cw30gkc0000gn/T/ipykernel_56305/3293823986.py\u001b[0m in \u001b[0;36m<module>\u001b[0;34m\u001b[0m\n\u001b[1;32m      2\u001b[0m \u001b[0;34m\u001b[0m\u001b[0m\n\u001b[1;32m      3\u001b[0m \u001b[0;31m#create layers\u001b[0m\u001b[0;34m\u001b[0m\u001b[0;34m\u001b[0m\u001b[0;34m\u001b[0m\u001b[0m\n\u001b[0;32m----> 4\u001b[0;31m \u001b[0mmodel\u001b[0m \u001b[0;34m=\u001b[0m \u001b[0mSequential\u001b[0m\u001b[0;34m(\u001b[0m\u001b[0;34m)\u001b[0m\u001b[0;34m\u001b[0m\u001b[0;34m\u001b[0m\u001b[0m\n\u001b[0m\u001b[1;32m      5\u001b[0m \u001b[0mmodel\u001b[0m\u001b[0;34m.\u001b[0m\u001b[0madd\u001b[0m\u001b[0;34m(\u001b[0m\u001b[0mDense\u001b[0m\u001b[0;34m(\u001b[0m\u001b[0;36m4\u001b[0m\u001b[0;34m,\u001b[0m \u001b[0minput_dim\u001b[0m\u001b[0;34m=\u001b[0m\u001b[0;36m2\u001b[0m\u001b[0;34m,\u001b[0m \u001b[0mactivation\u001b[0m\u001b[0;34m=\u001b[0m\u001b[0;34m'relu'\u001b[0m\u001b[0;34m)\u001b[0m\u001b[0;34m)\u001b[0m \u001b[0;31m#2 variables, 4 nodes\u001b[0m\u001b[0;34m\u001b[0m\u001b[0;34m\u001b[0m\u001b[0m\n\u001b[1;32m      6\u001b[0m \u001b[0mmodel\u001b[0m\u001b[0;34m.\u001b[0m\u001b[0madd\u001b[0m\u001b[0;34m(\u001b[0m\u001b[0mDense\u001b[0m\u001b[0;34m(\u001b[0m\u001b[0;36m1\u001b[0m\u001b[0;34m,\u001b[0m \u001b[0mactivation\u001b[0m\u001b[0;34m=\u001b[0m\u001b[0;34m'sigmoid'\u001b[0m\u001b[0;34m)\u001b[0m\u001b[0;34m)\u001b[0m\u001b[0;34m\u001b[0m\u001b[0;34m\u001b[0m\u001b[0m\n",
            "\u001b[0;31mNameError\u001b[0m: name 'Sequential' is not defined"
          ]
        }
      ],
      "source": [
        "#for moon data\n",
        "\n",
        "#create layers\n",
        "model = Sequential()\n",
        "model.add(Dense(4, input_dim=2, activation='relu')) #2 variables, 4 nodes \n",
        "model.add(Dense(1, activation='sigmoid'))"
      ]
    },
    {
      "cell_type": "markdown",
      "metadata": {
        "id": "CXuMN9dLdIrS"
      },
      "source": [
        "- Epoch: a fixed number of iterations. One pass through all of the rows in the training dataset.\n",
        "- Batch: set the number of dataset rows that are considered before the model weights are updated within each epoch. "
      ]
    },
    {
      "cell_type": "code",
      "execution_count": null,
      "metadata": {
        "colab": {
          "base_uri": "https://localhost:8080/"
        },
        "id": "AdSHWjXZcg8C",
        "outputId": "37a16e21-bc17-4b92-d599-70e985eecb31"
      },
      "outputs": [],
      "source": [
        "# compile the keras model\n",
        "model.compile(loss='binary_crossentropy', optimizer='adam', metrics=['accuracy'])\n",
        "\n",
        "model.fit(moon_x, moon_y , epochs=50, batch_size=10)\n",
        "_, accuracy = model.evaluate(moon_x, moon_y)\n",
        "\n",
        "print('Accuracy: %.2f' % (accuracy*100))"
      ]
    },
    {
      "cell_type": "code",
      "execution_count": null,
      "metadata": {
        "colab": {
          "base_uri": "https://localhost:8080/"
        },
        "id": "1ZsD-WBRiQNo",
        "outputId": "21cace8e-cd21-411e-8ba8-793c5a9e499f"
      },
      "outputs": [],
      "source": [
        "moon_y"
      ]
    },
    {
      "cell_type": "code",
      "execution_count": null,
      "metadata": {
        "colab": {
          "base_uri": "https://localhost:8080/"
        },
        "id": "QhBBT9eaiCNv",
        "outputId": "328ac6a5-fe73-4dda-8b60-186c88ed4b15"
      },
      "outputs": [],
      "source": [
        "predictions = model.predict(moon_x)\n",
        "# round predictions \n",
        "rounded_pred = [round(x[0]) for x in predictions]\n",
        "log_loss(moon_y, rounded_pred)"
      ]
    },
    {
      "cell_type": "markdown",
      "metadata": {
        "id": "5iTAkF_phvfV"
      },
      "source": [
        "Accuracy for moon data is 89.49%, and the cross entropy is around 11.09."
      ]
    },
    {
      "cell_type": "code",
      "execution_count": null,
      "metadata": {
        "colab": {
          "base_uri": "https://localhost:8080/"
        },
        "id": "uDwk3Sr7eQ5W",
        "outputId": "d9c50fb8-824f-4f96-bbb7-fb4ab872233c"
      },
      "outputs": [],
      "source": [
        "#for circle data \n",
        "\n",
        "model.fit(circle_x, circle_y , epochs=50, batch_size=10)\n",
        "_, accuracy = model.evaluate(circle_x, circle_y)\n",
        "\n",
        "print('Accuracy: %.2f' % (accuracy*100))"
      ]
    },
    {
      "cell_type": "code",
      "execution_count": null,
      "metadata": {
        "colab": {
          "base_uri": "https://localhost:8080/"
        },
        "id": "5bir-Hqsiea5",
        "outputId": "7b133969-a31e-4836-a2db-474531f7661c"
      },
      "outputs": [],
      "source": [
        "predictions_circles = model.predict(circle_x)\n",
        "# round predictions \n",
        "rounded_pred_circles = [round(x[0]) for x in predictions_circles]\n",
        "log_loss(circle_y, rounded_pred_circles)"
      ]
    },
    {
      "cell_type": "markdown",
      "metadata": {
        "id": "MaWUVB6jh07P"
      },
      "source": [
        "Accuracy for circle data is 83.99%, and the cross entropy is around 5.529."
      ]
    },
    {
      "cell_type": "code",
      "execution_count": null,
      "metadata": {
        "id": "uRLHfmxVdpbe"
      },
      "outputs": [],
      "source": [
        "import numpy as np\n",
        "import matplotlib.pyplot as plt"
      ]
    },
    {
      "cell_type": "code",
      "execution_count": null,
      "metadata": {
        "id": "0vltflkReBot"
      },
      "outputs": [],
      "source": [
        "def make_meshgrid(x, y, h=0.02):\n",
        "    \"\"\"Create a mesh of points to plot in\n",
        "\n",
        "    Parameters\n",
        "    ----------\n",
        "    x: data to base x-axis meshgrid on\n",
        "    y: data to base y-axis meshgrid on\n",
        "    h: stepsize for meshgrid, optional\n",
        "\n",
        "    Returns\n",
        "    -------\n",
        "    xx, yy : ndarray\n",
        "    \"\"\"\n",
        "    x_min, x_max = x.min() - 1, x.max() + 1\n",
        "    y_min, y_max = y.min() - 1, y.max() + 1\n",
        "    xx, yy = np.meshgrid(np.arange(x_min, x_max, h), np.arange(y_min, y_max, h))\n",
        "    return xx, yy\n",
        "\n",
        "def plot_contours(ax, clf, xx, yy, **params):\n",
        "    \"\"\"Plot the decision boundaries for a classifier.\n",
        "\n",
        "    Parameters\n",
        "    ----------\n",
        "    ax: matplotlib axes object\n",
        "    clf: a classifier\n",
        "    xx: meshgrid ndarray\n",
        "    yy: meshgrid ndarray\n",
        "    params: dictionary of params to pass to contourf, optional\n",
        "    \"\"\"\n",
        "    Z = clf.predict(np.c_[xx.ravel(), yy.ravel()])\n",
        "    Z = Z.reshape(xx.shape)\n",
        "    out = ax.contourf(xx, yy, Z, **params)\n",
        "    return out"
      ]
    },
    {
      "cell_type": "code",
      "execution_count": null,
      "metadata": {
        "colab": {
          "base_uri": "https://localhost:8080/",
          "height": 296
        },
        "id": "enVXTJHYeFYY",
        "outputId": "32c336db-2c33-47a1-8249-029d4d351381"
      },
      "outputs": [],
      "source": [
        "\n",
        "X0, X1 = moon_x[:, 0], moon_x[:, 1]\n",
        "xx, yy = make_meshgrid(X0, X1) \n",
        "\n",
        "fig, ax = plt.subplots()\n",
        "plot_contours(ax, model, xx, yy, cmap=plt.cm.coolwarm, alpha=0.8)\n",
        "ax.scatter(X0, X1, cmap=plt.cm.coolwarm, s=20, edgecolors=\"k\")\n",
        "ax.set_xlim(xx.min(), xx.max())\n",
        "ax.set_ylim(yy.min(), yy.max())\n",
        "ax.set_xlabel(\"Variable 1\")\n",
        "ax.set_ylabel(\"Variable 2\")\n",
        "ax.set_xticks(())\n",
        "ax.set_yticks(())\n",
        "ax.set_title('Moon classification')"
      ]
    },
    {
      "cell_type": "code",
      "execution_count": null,
      "metadata": {
        "colab": {
          "base_uri": "https://localhost:8080/",
          "height": 296
        },
        "id": "4RUxnD6DfDml",
        "outputId": "031ab32f-b8cc-4bd2-9267-4cbd1f85d5a0"
      },
      "outputs": [],
      "source": [
        "X0, X1 = circle_x[:, 0], circle_x[:, 1]\n",
        "xx, yy = make_meshgrid(X0, X1) \n",
        "\n",
        "fig, ax = plt.subplots()\n",
        "plot_contours(ax, model, xx, yy, cmap=plt.cm.coolwarm, alpha=0.8)\n",
        "ax.scatter(X0, X1, cmap=plt.cm.coolwarm, s=20, edgecolors=\"k\")\n",
        "ax.set_xlim(xx.min(), xx.max())\n",
        "ax.set_ylim(yy.min(), yy.max())\n",
        "ax.set_xlabel(\"Variable 1\")\n",
        "ax.set_ylabel(\"Variable 2\")\n",
        "ax.set_xticks(())\n",
        "ax.set_yticks(())\n",
        "ax.set_title('Circle classification')"
      ]
    },
    {
      "cell_type": "code",
      "execution_count": null,
      "metadata": {
        "id": "8F932NI9hOt-"
      },
      "outputs": [],
      "source": []
    },
    {
      "cell_type": "code",
      "execution_count": null,
      "metadata": {
        "id": "tM2pteVzhofq"
      },
      "outputs": [],
      "source": []
    }
  ],
  "metadata": {
    "colab": {
      "collapsed_sections": [],
      "name": "PCW17.ipynb",
      "provenance": []
    },
    "kernelspec": {
      "display_name": "Python 3",
      "name": "python3"
    },
    "language_info": {
      "codemirror_mode": {
        "name": "ipython",
        "version": 3
      },
      "file_extension": ".py",
      "mimetype": "text/x-python",
      "name": "python",
      "nbconvert_exporter": "python",
      "pygments_lexer": "ipython3",
      "version": "3.9.1"
    }
  },
  "nbformat": 4,
  "nbformat_minor": 0
}
