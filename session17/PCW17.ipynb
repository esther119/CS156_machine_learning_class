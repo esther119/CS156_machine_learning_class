{
  "cells": [
    {
      "cell_type": "code",
      "execution_count": 1,
      "metadata": {
        "id": "oPJ87s4gcc6a"
      },
      "outputs": [],
      "source": [
        "from numpy import loadtxt\n",
        "from keras.layers import Dense\n",
        "from keras.models import Sequential\n",
        "from sklearn import datasets\n",
        "from sklearn.metrics import log_loss\n",
        "\n",
        "(moon_x,moon_y) = datasets.make_moons(n_samples=10000, noise=0.05, random_state=42)\n",
        "\n",
        "(circle_x,circle_y) = datasets.make_circles(n_samples=10000, noise=0.025, random_state=42)"
      ]
    },
    {
      "cell_type": "code",
      "execution_count": 2,
      "metadata": {
        "id": "JMOC5e4_cfJv"
      },
      "outputs": [],
      "source": [
        "#for moon data\n",
        "\n",
        "#create layers\n",
        "model = Sequential()\n",
        "model.add(Dense(4, input_dim=2, activation='relu')) #2 variables, 4 nodes \n",
        "model.add(Dense(1, activation='sigmoid'))"
      ]
    },
    {
      "cell_type": "markdown",
      "metadata": {
        "id": "CXuMN9dLdIrS"
      },
      "source": [
        "- Epoch: a fixed number of iterations. One pass through all of the rows in the training dataset.\n",
        "- Batch: set the number of dataset rows that are considered before the model weights are updated within each epoch. "
      ]
    },
    {
      "cell_type": "code",
      "execution_count": 3,
      "metadata": {
        "colab": {
          "base_uri": "https://localhost:8080/"
        },
        "id": "AdSHWjXZcg8C",
        "outputId": "37a16e21-bc17-4b92-d599-70e985eecb31"
      },
      "outputs": [
        {
          "name": "stdout",
          "output_type": "stream",
          "text": [
            "Epoch 1/50\n",
            "1000/1000 [==============================] - 3s 2ms/step - loss: 0.4358 - accuracy: 0.8089\n",
            "Epoch 2/50\n",
            "1000/1000 [==============================] - 1s 1ms/step - loss: 0.2596 - accuracy: 0.8774\n",
            "Epoch 3/50\n",
            "1000/1000 [==============================] - 1s 1ms/step - loss: 0.2258 - accuracy: 0.8900\n",
            "Epoch 4/50\n",
            "1000/1000 [==============================] - 1s 1ms/step - loss: 0.2137 - accuracy: 0.8943\n",
            "Epoch 5/50\n",
            "1000/1000 [==============================] - 1s 1ms/step - loss: 0.2074 - accuracy: 0.8949\n",
            "Epoch 6/50\n",
            "1000/1000 [==============================] - 1s 1ms/step - loss: 0.2043 - accuracy: 0.8947\n",
            "Epoch 7/50\n",
            "1000/1000 [==============================] - 1s 1ms/step - loss: 0.2029 - accuracy: 0.8945\n",
            "Epoch 8/50\n",
            "1000/1000 [==============================] - 1s 1ms/step - loss: 0.2020 - accuracy: 0.8952\n",
            "Epoch 9/50\n",
            "1000/1000 [==============================] - 1s 1ms/step - loss: 0.2018 - accuracy: 0.8950\n",
            "Epoch 10/50\n",
            "1000/1000 [==============================] - 1s 1ms/step - loss: 0.2014 - accuracy: 0.8955\n",
            "Epoch 11/50\n",
            "1000/1000 [==============================] - 1s 1ms/step - loss: 0.2012 - accuracy: 0.8952\n",
            "Epoch 12/50\n",
            "1000/1000 [==============================] - 1s 1ms/step - loss: 0.2010 - accuracy: 0.8952\n",
            "Epoch 13/50\n",
            "1000/1000 [==============================] - 1s 1ms/step - loss: 0.2009 - accuracy: 0.8948\n",
            "Epoch 14/50\n",
            "1000/1000 [==============================] - 1s 1ms/step - loss: 0.2008 - accuracy: 0.8958\n",
            "Epoch 15/50\n",
            "1000/1000 [==============================] - 1s 1ms/step - loss: 0.2007 - accuracy: 0.8949\n",
            "Epoch 16/50\n",
            "1000/1000 [==============================] - 1s 1ms/step - loss: 0.2005 - accuracy: 0.8955\n",
            "Epoch 17/50\n",
            "1000/1000 [==============================] - 2s 2ms/step - loss: 0.2003 - accuracy: 0.8953\n",
            "Epoch 18/50\n",
            "1000/1000 [==============================] - 2s 2ms/step - loss: 0.2004 - accuracy: 0.8972\n",
            "Epoch 19/50\n",
            "1000/1000 [==============================] - 1s 1ms/step - loss: 0.2005 - accuracy: 0.8964\n",
            "Epoch 20/50\n",
            "1000/1000 [==============================] - 1s 1ms/step - loss: 0.2004 - accuracy: 0.8956\n",
            "Epoch 21/50\n",
            "1000/1000 [==============================] - 1s 1ms/step - loss: 0.2004 - accuracy: 0.8955\n",
            "Epoch 22/50\n",
            "1000/1000 [==============================] - 1s 1ms/step - loss: 0.2003 - accuracy: 0.8954\n",
            "Epoch 23/50\n",
            "1000/1000 [==============================] - 1s 1ms/step - loss: 0.2004 - accuracy: 0.8961\n",
            "Epoch 24/50\n",
            "1000/1000 [==============================] - 1s 1ms/step - loss: 0.2004 - accuracy: 0.8955\n",
            "Epoch 25/50\n",
            "1000/1000 [==============================] - 1s 1ms/step - loss: 0.2003 - accuracy: 0.8955\n",
            "Epoch 26/50\n",
            "1000/1000 [==============================] - 1s 1ms/step - loss: 0.2002 - accuracy: 0.8961\n",
            "Epoch 27/50\n",
            "1000/1000 [==============================] - 1s 1ms/step - loss: 0.2001 - accuracy: 0.8959\n",
            "Epoch 28/50\n",
            "1000/1000 [==============================] - 3s 3ms/step - loss: 0.2001 - accuracy: 0.8966\n",
            "Epoch 29/50\n",
            "1000/1000 [==============================] - 3s 3ms/step - loss: 0.2001 - accuracy: 0.8959\n",
            "Epoch 30/50\n",
            "1000/1000 [==============================] - 2s 2ms/step - loss: 0.2001 - accuracy: 0.8951\n",
            "Epoch 31/50\n",
            "1000/1000 [==============================] - 3s 3ms/step - loss: 0.2002 - accuracy: 0.8950\n",
            "Epoch 32/50\n",
            "1000/1000 [==============================] - 2s 2ms/step - loss: 0.2002 - accuracy: 0.8951\n",
            "Epoch 33/50\n",
            "1000/1000 [==============================] - 1s 1ms/step - loss: 0.2001 - accuracy: 0.8957\n",
            "Epoch 34/50\n",
            "1000/1000 [==============================] - 1s 1ms/step - loss: 0.2001 - accuracy: 0.8957\n",
            "Epoch 35/50\n",
            "1000/1000 [==============================] - 1s 1ms/step - loss: 0.1999 - accuracy: 0.8960\n",
            "Epoch 36/50\n",
            "1000/1000 [==============================] - 1s 1ms/step - loss: 0.2002 - accuracy: 0.8953\n",
            "Epoch 37/50\n",
            "1000/1000 [==============================] - 1s 1ms/step - loss: 0.2001 - accuracy: 0.8953\n",
            "Epoch 38/50\n",
            "1000/1000 [==============================] - 1s 1ms/step - loss: 0.1998 - accuracy: 0.8961\n",
            "Epoch 39/50\n",
            "1000/1000 [==============================] - 1s 1ms/step - loss: 0.2001 - accuracy: 0.8962\n",
            "Epoch 40/50\n",
            "1000/1000 [==============================] - 2s 2ms/step - loss: 0.2000 - accuracy: 0.8952\n",
            "Epoch 41/50\n",
            "1000/1000 [==============================] - 3s 3ms/step - loss: 0.2001 - accuracy: 0.8960\n",
            "Epoch 42/50\n",
            "1000/1000 [==============================] - 1s 1ms/step - loss: 0.2001 - accuracy: 0.8956\n",
            "Epoch 43/50\n",
            "1000/1000 [==============================] - 1s 1ms/step - loss: 0.1999 - accuracy: 0.8955\n",
            "Epoch 44/50\n",
            "1000/1000 [==============================] - 1s 1ms/step - loss: 0.1999 - accuracy: 0.8954\n",
            "Epoch 45/50\n",
            "1000/1000 [==============================] - 1s 1ms/step - loss: 0.1999 - accuracy: 0.8957\n",
            "Epoch 46/50\n",
            "1000/1000 [==============================] - 1s 1ms/step - loss: 0.1997 - accuracy: 0.8953\n",
            "Epoch 47/50\n",
            "1000/1000 [==============================] - 1s 1ms/step - loss: 0.2000 - accuracy: 0.8965\n",
            "Epoch 48/50\n",
            "1000/1000 [==============================] - 1s 1ms/step - loss: 0.1997 - accuracy: 0.8975\n",
            "Epoch 49/50\n",
            "1000/1000 [==============================] - 1s 1ms/step - loss: 0.1999 - accuracy: 0.8950\n",
            "Epoch 50/50\n",
            "1000/1000 [==============================] - 1s 1ms/step - loss: 0.1997 - accuracy: 0.8964\n",
            "313/313 [==============================] - 1s 1ms/step - loss: 0.1994 - accuracy: 0.8949\n",
            "Accuracy: 89.49\n"
          ]
        }
      ],
      "source": [
        "# compile the keras model\n",
        "model.compile(loss='binary_crossentropy', optimizer='adam', metrics=['accuracy'])\n",
        "\n",
        "model.fit(moon_x, moon_y , epochs=50, batch_size=10)\n",
        "_, accuracy = model.evaluate(moon_x, moon_y)\n",
        "\n",
        "print('Accuracy: %.2f' % (accuracy*100))"
      ]
    },
    {
      "cell_type": "code",
      "execution_count": 18,
      "metadata": {
        "colab": {
          "base_uri": "https://localhost:8080/"
        },
        "id": "1ZsD-WBRiQNo",
        "outputId": "21cace8e-cd21-411e-8ba8-793c5a9e499f"
      },
      "outputs": [
        {
          "data": {
            "text/plain": [
              "array([1, 0, 0, ..., 1, 0, 1])"
            ]
          },
          "execution_count": 18,
          "metadata": {},
          "output_type": "execute_result"
        }
      ],
      "source": [
        "moon_y"
      ]
    },
    {
      "cell_type": "code",
      "execution_count": 19,
      "metadata": {
        "colab": {
          "base_uri": "https://localhost:8080/"
        },
        "id": "QhBBT9eaiCNv",
        "outputId": "328ac6a5-fe73-4dda-8b60-186c88ed4b15"
      },
      "outputs": [
        {
          "data": {
            "text/plain": [
              "11.097355232335754"
            ]
          },
          "execution_count": 19,
          "metadata": {},
          "output_type": "execute_result"
        }
      ],
      "source": [
        "predictions = model.predict(moon_x)\n",
        "# round predictions \n",
        "rounded_pred = [round(x[0]) for x in predictions]\n",
        "log_loss(moon_y, rounded_pred)"
      ]
    },
    {
      "cell_type": "markdown",
      "metadata": {
        "id": "5iTAkF_phvfV"
      },
      "source": [
        "Accuracy for moon data is 89.49%, and the cross entropy is around 11.09."
      ]
    },
    {
      "cell_type": "code",
      "execution_count": 12,
      "metadata": {
        "colab": {
          "base_uri": "https://localhost:8080/"
        },
        "id": "uDwk3Sr7eQ5W",
        "outputId": "d9c50fb8-824f-4f96-bbb7-fb4ab872233c"
      },
      "outputs": [
        {
          "name": "stdout",
          "output_type": "stream",
          "text": [
            "Epoch 1/50\n",
            "1000/1000 [==============================] - 1s 1ms/step - loss: 0.9255 - accuracy: 0.5546\n",
            "Epoch 2/50\n",
            "1000/1000 [==============================] - 1s 1ms/step - loss: 0.6427 - accuracy: 0.6050\n",
            "Epoch 3/50\n",
            "1000/1000 [==============================] - 1s 1ms/step - loss: 0.6149 - accuracy: 0.6206\n",
            "Epoch 4/50\n",
            "1000/1000 [==============================] - 1s 1ms/step - loss: 0.6002 - accuracy: 0.6254\n",
            "Epoch 5/50\n",
            "1000/1000 [==============================] - 2s 2ms/step - loss: 0.5866 - accuracy: 0.6473\n",
            "Epoch 6/50\n",
            "1000/1000 [==============================] - 2s 2ms/step - loss: 0.5734 - accuracy: 0.7182\n",
            "Epoch 7/50\n",
            "1000/1000 [==============================] - 3s 3ms/step - loss: 0.5616 - accuracy: 0.7353\n",
            "Epoch 8/50\n",
            "1000/1000 [==============================] - 2s 2ms/step - loss: 0.5525 - accuracy: 0.7400\n",
            "Epoch 9/50\n",
            "1000/1000 [==============================] - 2s 2ms/step - loss: 0.5452 - accuracy: 0.7337\n",
            "Epoch 10/50\n",
            "1000/1000 [==============================] - 2s 2ms/step - loss: 0.5382 - accuracy: 0.7339\n",
            "Epoch 11/50\n",
            "1000/1000 [==============================] - 1s 1ms/step - loss: 0.5323 - accuracy: 0.7283\n",
            "Epoch 12/50\n",
            "1000/1000 [==============================] - 1s 1ms/step - loss: 0.5264 - accuracy: 0.7288\n",
            "Epoch 13/50\n",
            "1000/1000 [==============================] - 1s 1ms/step - loss: 0.5214 - accuracy: 0.7238\n",
            "Epoch 14/50\n",
            "1000/1000 [==============================] - 1s 1ms/step - loss: 0.5167 - accuracy: 0.7262\n",
            "Epoch 15/50\n",
            "1000/1000 [==============================] - 2s 2ms/step - loss: 0.5123 - accuracy: 0.7240\n",
            "Epoch 16/50\n",
            "1000/1000 [==============================] - 2s 2ms/step - loss: 0.5084 - accuracy: 0.7226\n",
            "Epoch 17/50\n",
            "1000/1000 [==============================] - 1s 1ms/step - loss: 0.5048 - accuracy: 0.7251\n",
            "Epoch 18/50\n",
            "1000/1000 [==============================] - 1s 1ms/step - loss: 0.5013 - accuracy: 0.7242\n",
            "Epoch 19/50\n",
            "1000/1000 [==============================] - 1s 1ms/step - loss: 0.4978 - accuracy: 0.7278\n",
            "Epoch 20/50\n",
            "1000/1000 [==============================] - 1s 1ms/step - loss: 0.4946 - accuracy: 0.7282\n",
            "Epoch 21/50\n",
            "1000/1000 [==============================] - 1s 1ms/step - loss: 0.4918 - accuracy: 0.7294\n",
            "Epoch 22/50\n",
            "1000/1000 [==============================] - 2s 2ms/step - loss: 0.4888 - accuracy: 0.7331\n",
            "Epoch 23/50\n",
            "1000/1000 [==============================] - 1s 1ms/step - loss: 0.4855 - accuracy: 0.7338\n",
            "Epoch 24/50\n",
            "1000/1000 [==============================] - 1s 1ms/step - loss: 0.4819 - accuracy: 0.7362\n",
            "Epoch 25/50\n",
            "1000/1000 [==============================] - 2s 2ms/step - loss: 0.4782 - accuracy: 0.7404\n",
            "Epoch 26/50\n",
            "1000/1000 [==============================] - 1s 1ms/step - loss: 0.4749 - accuracy: 0.7434\n",
            "Epoch 27/50\n",
            "1000/1000 [==============================] - 1s 1ms/step - loss: 0.4712 - accuracy: 0.7439\n",
            "Epoch 28/50\n",
            "1000/1000 [==============================] - 1s 1ms/step - loss: 0.4674 - accuracy: 0.7508\n",
            "Epoch 29/50\n",
            "1000/1000 [==============================] - 1s 1ms/step - loss: 0.4636 - accuracy: 0.7529\n",
            "Epoch 30/50\n",
            "1000/1000 [==============================] - 1s 1ms/step - loss: 0.4590 - accuracy: 0.7583\n",
            "Epoch 31/50\n",
            "1000/1000 [==============================] - 1s 1ms/step - loss: 0.4541 - accuracy: 0.7619\n",
            "Epoch 32/50\n",
            "1000/1000 [==============================] - 1s 1ms/step - loss: 0.4489 - accuracy: 0.7695\n",
            "Epoch 33/50\n",
            "1000/1000 [==============================] - 1s 1ms/step - loss: 0.4442 - accuracy: 0.7791\n",
            "Epoch 34/50\n",
            "1000/1000 [==============================] - 1s 1ms/step - loss: 0.4380 - accuracy: 0.7793\n",
            "Epoch 35/50\n",
            "1000/1000 [==============================] - 1s 1ms/step - loss: 0.4318 - accuracy: 0.7881\n",
            "Epoch 36/50\n",
            "1000/1000 [==============================] - 1s 1ms/step - loss: 0.4258 - accuracy: 0.7994\n",
            "Epoch 37/50\n",
            "1000/1000 [==============================] - 1s 1ms/step - loss: 0.4206 - accuracy: 0.8064\n",
            "Epoch 38/50\n",
            "1000/1000 [==============================] - 1s 1ms/step - loss: 0.4148 - accuracy: 0.8133\n",
            "Epoch 39/50\n",
            "1000/1000 [==============================] - 1s 1ms/step - loss: 0.4088 - accuracy: 0.8193\n",
            "Epoch 40/50\n",
            "1000/1000 [==============================] - 1s 1ms/step - loss: 0.4038 - accuracy: 0.8255\n",
            "Epoch 41/50\n",
            "1000/1000 [==============================] - 1s 1ms/step - loss: 0.3992 - accuracy: 0.8309\n",
            "Epoch 42/50\n",
            "1000/1000 [==============================] - 2s 2ms/step - loss: 0.3954 - accuracy: 0.8321\n",
            "Epoch 43/50\n",
            "1000/1000 [==============================] - 1s 1ms/step - loss: 0.3917 - accuracy: 0.8338\n",
            "Epoch 44/50\n",
            "1000/1000 [==============================] - 1s 1ms/step - loss: 0.3887 - accuracy: 0.8361\n",
            "Epoch 45/50\n",
            "1000/1000 [==============================] - 1s 1ms/step - loss: 0.3851 - accuracy: 0.8372\n",
            "Epoch 46/50\n",
            "1000/1000 [==============================] - 1s 1ms/step - loss: 0.3821 - accuracy: 0.8388\n",
            "Epoch 47/50\n",
            "1000/1000 [==============================] - 1s 1ms/step - loss: 0.3790 - accuracy: 0.8453\n",
            "Epoch 48/50\n",
            "1000/1000 [==============================] - 1s 1ms/step - loss: 0.3771 - accuracy: 0.8436\n",
            "Epoch 49/50\n",
            "1000/1000 [==============================] - 1s 1ms/step - loss: 0.3744 - accuracy: 0.8452\n",
            "Epoch 50/50\n",
            "1000/1000 [==============================] - 1s 1ms/step - loss: 0.3725 - accuracy: 0.8460\n",
            "313/313 [==============================] - 0s 1ms/step - loss: 0.3730 - accuracy: 0.8399\n",
            "Accuracy: 83.99\n"
          ]
        }
      ],
      "source": [
        "#for circle data \n",
        "\n",
        "model.fit(circle_x, circle_y , epochs=50, batch_size=10)\n",
        "_, accuracy = model.evaluate(circle_x, circle_y)\n",
        "\n",
        "print('Accuracy: %.2f' % (accuracy*100))"
      ]
    },
    {
      "cell_type": "code",
      "execution_count": 20,
      "metadata": {
        "colab": {
          "base_uri": "https://localhost:8080/"
        },
        "id": "5bir-Hqsiea5",
        "outputId": "7b133969-a31e-4836-a2db-474531f7661c"
      },
      "outputs": [
        {
          "data": {
            "text/plain": [
              "5.529731743748522"
            ]
          },
          "execution_count": 20,
          "metadata": {},
          "output_type": "execute_result"
        }
      ],
      "source": [
        "predictions_circles = model.predict(circle_x)\n",
        "# round predictions \n",
        "rounded_pred_circles = [round(x[0]) for x in predictions_circles]\n",
        "log_loss(circle_y, rounded_pred_circles)"
      ]
    },
    {
      "cell_type": "markdown",
      "metadata": {
        "id": "MaWUVB6jh07P"
      },
      "source": [
        "Accuracy for circle data is 83.99%, and the cross entropy is around 5.529."
      ]
    },
    {
      "cell_type": "code",
      "execution_count": 8,
      "metadata": {
        "id": "uRLHfmxVdpbe"
      },
      "outputs": [],
      "source": [
        "import numpy as np\n",
        "import matplotlib.pyplot as plt"
      ]
    },
    {
      "cell_type": "code",
      "execution_count": 9,
      "metadata": {
        "id": "0vltflkReBot"
      },
      "outputs": [],
      "source": [
        "def make_meshgrid(x, y, h=0.02):\n",
        "    \"\"\"Create a mesh of points to plot in\n",
        "\n",
        "    Parameters\n",
        "    ----------\n",
        "    x: data to base x-axis meshgrid on\n",
        "    y: data to base y-axis meshgrid on\n",
        "    h: stepsize for meshgrid, optional\n",
        "\n",
        "    Returns\n",
        "    -------\n",
        "    xx, yy : ndarray\n",
        "    \"\"\"\n",
        "    x_min, x_max = x.min() - 1, x.max() + 1\n",
        "    y_min, y_max = y.min() - 1, y.max() + 1\n",
        "    xx, yy = np.meshgrid(np.arange(x_min, x_max, h), np.arange(y_min, y_max, h))\n",
        "    return xx, yy\n",
        "\n",
        "def plot_contours(ax, clf, xx, yy, **params):\n",
        "    \"\"\"Plot the decision boundaries for a classifier.\n",
        "\n",
        "    Parameters\n",
        "    ----------\n",
        "    ax: matplotlib axes object\n",
        "    clf: a classifier\n",
        "    xx: meshgrid ndarray\n",
        "    yy: meshgrid ndarray\n",
        "    params: dictionary of params to pass to contourf, optional\n",
        "    \"\"\"\n",
        "    Z = clf.predict(np.c_[xx.ravel(), yy.ravel()])\n",
        "    Z = Z.reshape(xx.shape)\n",
        "    out = ax.contourf(xx, yy, Z, **params)\n",
        "    return out"
      ]
    },
    {
      "cell_type": "code",
      "execution_count": 11,
      "metadata": {
        "colab": {
          "base_uri": "https://localhost:8080/",
          "height": 296
        },
        "id": "enVXTJHYeFYY",
        "outputId": "32c336db-2c33-47a1-8249-029d4d351381"
      },
      "outputs": [
        {
          "data": {
            "text/plain": [
              "Text(0.5, 1.0, 'Moon classification')"
            ]
          },
          "execution_count": 11,
          "metadata": {},
          "output_type": "execute_result"
        },
        {
          "data": {
            "image/png": "[encoded data removed]",
            "text/plain": [
              "<Figure size 432x288 with 1 Axes>"
            ]
          },
          "metadata": {},
          "output_type": "display_data"
        }
      ],
      "source": [
        "\n",
        "X0, X1 = moon_x[:, 0], moon_x[:, 1]\n",
        "xx, yy = make_meshgrid(X0, X1) \n",
        "\n",
        "fig, ax = plt.subplots()\n",
        "plot_contours(ax, model, xx, yy, cmap=plt.cm.coolwarm, alpha=0.8)\n",
        "ax.scatter(X0, X1, cmap=plt.cm.coolwarm, s=20, edgecolors=\"k\")\n",
        "ax.set_xlim(xx.min(), xx.max())\n",
        "ax.set_ylim(yy.min(), yy.max())\n",
        "ax.set_xlabel(\"Variable 1\")\n",
        "ax.set_ylabel(\"Variable 2\")\n",
        "ax.set_xticks(())\n",
        "ax.set_yticks(())\n",
        "ax.set_title('Moon classification')"
      ]
    },
    {
      "cell_type": "markdown",
      "metadata": {},
      "source": [
        "Only one hidden layers, can only turn around 1 time. "
      ]
    },
    {
      "cell_type": "code",
      "execution_count": 13,
      "metadata": {
        "colab": {
          "base_uri": "https://localhost:8080/",
          "height": 296
        },
        "id": "4RUxnD6DfDml",
        "outputId": "031ab32f-b8cc-4bd2-9267-4cbd1f85d5a0"
      },
      "outputs": [
        {
          "data": {
            "text/plain": [
              "Text(0.5, 1.0, 'Circle classification')"
            ]
          },
          "execution_count": 13,
          "metadata": {},
          "output_type": "execute_result"
        },
        {
          "data": {
            "image/png": "[encoded data removed]",
            "text/plain": [
              "<Figure size 432x288 with 1 Axes>"
            ]
          },
          "metadata": {},
          "output_type": "display_data"
        }
      ],
      "source": [
        "X0, X1 = circle_x[:, 0], circle_x[:, 1]\n",
        "xx, yy = make_meshgrid(X0, X1) \n",
        "\n",
        "fig, ax = plt.subplots()\n",
        "plot_contours(ax, model, xx, yy, cmap=plt.cm.coolwarm, alpha=0.8)\n",
        "ax.scatter(X0, X1, cmap=plt.cm.coolwarm, s=20, edgecolors=\"k\")\n",
        "ax.set_xlim(xx.min(), xx.max())\n",
        "ax.set_ylim(yy.min(), yy.max())\n",
        "ax.set_xlabel(\"Variable 1\")\n",
        "ax.set_ylabel(\"Variable 2\")\n",
        "ax.set_xticks(())\n",
        "ax.set_yticks(())\n",
        "ax.set_title('Circle classification')"
      ]
    },
    {
      "cell_type": "code",
      "execution_count": 14,
      "metadata": {
        "id": "8F932NI9hOt-"
      },
      "outputs": [],
      "source": []
    },
    {
      "cell_type": "code",
      "execution_count": null,
      "metadata": {},
      "outputs": [],
      "source": []
    }
  ],
  "metadata": {
    "colab": {
      "collapsed_sections": [],
      "name": "PCW17.ipynb",
      "provenance": []
    },
    "kernelspec": {
      "display_name": "Python 3",
      "name": "python3"
    },
    "language_info": {
      "codemirror_mode": {
        "name": "ipython",
        "version": 3
      },
      "file_extension": ".py",
      "mimetype": "text/x-python",
      "name": "python",
      "nbconvert_exporter": "python",
      "pygments_lexer": "ipython3",
      "version": "3.9.1"
    }
  },
  "nbformat": 4,
  "nbformat_minor": 0
}
