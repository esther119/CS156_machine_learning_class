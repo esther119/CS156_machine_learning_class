{
 "cells": [
  {
   "cell_type": "markdown",
   "metadata": {},
   "source": [
    "\n",
    "Fashion Data\n",
    "\n",
    "pca.fit(X) needs X to be \"array-like, shape (n_samples, n_features)\".\n",
    "See here: https://scikit-learn.org/stable/modules/generated/sklearn.decomposition.PCA.html#sklearn.decomposition.PCA.fit\n",
    "\n",
    "You can use this code to bring the data into a format to be used with PCA. \n",
    "Note, that the images of men clothing or in a folder called 'man_200'.\n",
    "Note also, that you would need to do this for two types of your choosing to \n",
    "perform classification.\n",
    "\n",
    "It's a good idea to print out the arrays and shapes at each step to know what's\n",
    "happening in the background!\n",
    "\n",
    "There are probably a million ways to do this, don't feel constrained to use this snippet.\n",
    "\n",
    "Code Link: https://towardsdatascience.com/pca-using-python-scikit-learn-e653f8989e60"
   ]
  },
  {
   "cell_type": "code",
   "execution_count": 1,
   "metadata": {},
   "outputs": [
    {
     "name": "stderr",
     "output_type": "stream",
     "text": [
      "/var/folders/0h/xyv81g2n7sj6zr0c9cw30gkc0000gn/T/ipykernel_1820/4029016481.py:24: VisibleDeprecationWarning: Creating an ndarray from ragged nested sequences (which is a list-or-tuple of lists-or-tuples-or ndarrays with different lengths or shapes) is deprecated. If you meant to do this, you must specify 'dtype=object' when creating the ndarray.\n",
      "  man_flattened = np.asarray(man_flattened)\n",
      "/Users/swimmingcircle/Library/Python/3.9/lib/python/site-packages/IPython/core/interactiveshell.py:3377: FutureWarning: arrays to stack must be passed as a \"sequence\" type such as list or tuple. Support for non-sequence iterables such as generators is deprecated as of NumPy 1.16 and will raise an error in the future.\n",
      "  if (await self.run_code(code, result,  async_=asy)):\n"
     ]
    }
   ],
   "source": [
    "from glob import glob\n",
    "from PIL import Image\n",
    "from resizeimage import resizeimage\n",
    "import numpy as np\n",
    "\n",
    "# create paths for all images\n",
    "man_images = glob('man_200/*')\n",
    "\n",
    "man_flattened = []\n",
    "# for each image path\n",
    "for path in man_images:\n",
    "    # open it as a read file in binary mode\n",
    "    with open(path, 'r+b') as f:\n",
    "        # open it as an image\n",
    "        with Image.open(f) as image:\n",
    "            # resize the image to be more manageable\n",
    "            cover = resizeimage.resize_cover(image, [20, 10])\n",
    "            # flatten the matrix to an array and append it to all flattened images\n",
    "            man_flattened.append((np.array(cover).flatten(), 0))\n",
    "\n",
    "            \n",
    "\n",
    "# Flatten it once more\n",
    "man_flattened = np.asarray(man_flattened)\n",
    "\n",
    "# Declare which are the X and Y inputs\n",
    "X_man = man_flattened[:,0]\n",
    "Y_man = man_flattened[:,1]\n",
    "\n",
    "# Use np.stack to put the data into the right dimension\n",
    "X_man = np.stack(i for i in X_man)\n",
    "Y_man = np.stack(i for i in Y_man)\n"
   ]
  },
  {
   "cell_type": "code",
   "execution_count": 2,
   "metadata": {},
   "outputs": [
    {
     "name": "stderr",
     "output_type": "stream",
     "text": [
      "/var/folders/0h/xyv81g2n7sj6zr0c9cw30gkc0000gn/T/ipykernel_1820/2458865537.py:16: VisibleDeprecationWarning: Creating an ndarray from ragged nested sequences (which is a list-or-tuple of lists-or-tuples-or ndarrays with different lengths or shapes) is deprecated. If you meant to do this, you must specify 'dtype=object' when creating the ndarray.\n",
      "  woman_flattened = np.asarray(woman_flattened)\n"
     ]
    }
   ],
   "source": [
    "woman_images = glob('woman_200/*')\n",
    "woman_flattened = []\n",
    "# for each image path\n",
    "for path in woman_images:\n",
    "    # open it as a read file in binary mode\n",
    "    with open(path, 'r+b') as f:\n",
    "        # open it as an image\n",
    "        with Image.open(f) as image:\n",
    "            # resize the image to be more manageable\n",
    "            cover = resizeimage.resize_cover(image, [20, 10])\n",
    "            # flatten the matrix to an array and append it to all flattened images\n",
    "            woman_flattened.append((np.array(cover).flatten(), 1))\n",
    "\n",
    "\n",
    "# Flatten it once more\n",
    "woman_flattened = np.asarray(woman_flattened)\n",
    "\n",
    "# Declare which are the X and Y inputs\n",
    "X_wom = woman_flattened[:,0]\n",
    "Y_wom = woman_flattened[:,1]\n",
    "\n",
    "# Use np.stack to put the data into the right dimension\n",
    "X_wom = np.stack(i for i in X_wom)\n",
    "Y_wom = np.stack(i for i in Y_wom)\n"
   ]
  },
  {
   "cell_type": "code",
   "execution_count": 3,
   "metadata": {},
   "outputs": [
    {
     "data": {
      "text/plain": [
       "((1242, 600), (1242,))"
      ]
     },
     "execution_count": 3,
     "metadata": {},
     "output_type": "execute_result"
    }
   ],
   "source": [
    "X_man.shape, Y_man.shape"
   ]
  },
  {
   "cell_type": "code",
   "execution_count": 4,
   "metadata": {},
   "outputs": [
    {
     "data": {
      "text/plain": [
       "((1270, 600), (1270,))"
      ]
     },
     "execution_count": 4,
     "metadata": {},
     "output_type": "execute_result"
    }
   ],
   "source": [
    "X_wom.shape, Y_wom.shape"
   ]
  },
  {
   "cell_type": "code",
   "execution_count": 5,
   "metadata": {},
   "outputs": [
    {
     "data": {
      "text/plain": [
       "((2512, 600), (2512,))"
      ]
     },
     "execution_count": 5,
     "metadata": {},
     "output_type": "execute_result"
    }
   ],
   "source": [
    "X = np.vstack((X_man, X_wom))\n",
    "Y = np.hstack((Y_man, Y_wom))\n",
    "X.shape, Y.shape"
   ]
  },
  {
   "cell_type": "code",
   "execution_count": 16,
   "metadata": {},
   "outputs": [
    {
     "name": "stdout",
     "output_type": "stream",
     "text": [
      "Mean Accuracy: 0.577 (0.032)\n"
     ]
    }
   ],
   "source": [
    "from sklearn.discriminant_analysis import LinearDiscriminantAnalysis\n",
    "from sklearn.model_selection import RepeatedStratifiedKFold\n",
    "from sklearn.model_selection import cross_val_score\n",
    "\n",
    "model = LinearDiscriminantAnalysis()\n",
    "# define model evaluation method\n",
    "cv = RepeatedStratifiedKFold(n_splits=10, n_repeats=3, random_state=1)\n",
    "# evaluate model\n",
    "scores = cross_val_score(model, X, Y, scoring='accuracy', cv=cv, n_jobs=-1)\n",
    "# summarize result\n",
    "print('Mean Accuracy: %.3f (%.3f)' % (np.mean(scores), np.std(scores)))"
   ]
  },
  {
   "cell_type": "code",
   "execution_count": 36,
   "metadata": {},
   "outputs": [
    {
     "name": "stdout",
     "output_type": "stream",
     "text": [
      "Mean Accuracy: 0.577\n",
      "Config: {'solver': 'svd'}\n"
     ]
    }
   ],
   "source": [
    "#Grid search to find the best parameter score.\n",
    "from sklearn.model_selection import GridSearchCV\n",
    "# define grid\n",
    "grid = dict()\n",
    "grid['solver'] = ['svd', 'lsqr', 'eigen']\n",
    "# define search\n",
    "search = GridSearchCV(model, grid, scoring='accuracy', cv=cv, n_jobs=-1)\n",
    "# perform the search\n",
    "results = search.fit(X, Y)\n",
    "# summarize\n",
    "print('Mean Accuracy: %.3f' % results.best_score_)\n",
    "print('Config: %s' % results.best_params_)"
   ]
  },
  {
   "cell_type": "code",
   "execution_count": 24,
   "metadata": {},
   "outputs": [
    {
     "data": {
      "text/html": [
       "<div>\n",
       "<style scoped>\n",
       "    .dataframe tbody tr th:only-of-type {\n",
       "        vertical-align: middle;\n",
       "    }\n",
       "\n",
       "    .dataframe tbody tr th {\n",
       "        vertical-align: top;\n",
       "    }\n",
       "\n",
       "    .dataframe thead th {\n",
       "        text-align: right;\n",
       "    }\n",
       "</style>\n",
       "<table border=\"1\" class=\"dataframe\">\n",
       "  <thead>\n",
       "    <tr style=\"text-align: right;\">\n",
       "      <th></th>\n",
       "      <th>X</th>\n",
       "      <th>Y</th>\n",
       "    </tr>\n",
       "  </thead>\n",
       "  <tbody>\n",
       "    <tr>\n",
       "      <th>0</th>\n",
       "      <td>-2.236593</td>\n",
       "      <td>0</td>\n",
       "    </tr>\n",
       "    <tr>\n",
       "      <th>1</th>\n",
       "      <td>-2.824244</td>\n",
       "      <td>0</td>\n",
       "    </tr>\n",
       "    <tr>\n",
       "      <th>2</th>\n",
       "      <td>-0.707215</td>\n",
       "      <td>0</td>\n",
       "    </tr>\n",
       "    <tr>\n",
       "      <th>3</th>\n",
       "      <td>-0.478124</td>\n",
       "      <td>0</td>\n",
       "    </tr>\n",
       "    <tr>\n",
       "      <th>4</th>\n",
       "      <td>-1.030399</td>\n",
       "      <td>0</td>\n",
       "    </tr>\n",
       "    <tr>\n",
       "      <th>...</th>\n",
       "      <td>...</td>\n",
       "      <td>...</td>\n",
       "    </tr>\n",
       "    <tr>\n",
       "      <th>2507</th>\n",
       "      <td>1.326585</td>\n",
       "      <td>1</td>\n",
       "    </tr>\n",
       "    <tr>\n",
       "      <th>2508</th>\n",
       "      <td>0.085164</td>\n",
       "      <td>1</td>\n",
       "    </tr>\n",
       "    <tr>\n",
       "      <th>2509</th>\n",
       "      <td>-1.750312</td>\n",
       "      <td>1</td>\n",
       "    </tr>\n",
       "    <tr>\n",
       "      <th>2510</th>\n",
       "      <td>0.512316</td>\n",
       "      <td>1</td>\n",
       "    </tr>\n",
       "    <tr>\n",
       "      <th>2511</th>\n",
       "      <td>2.540791</td>\n",
       "      <td>1</td>\n",
       "    </tr>\n",
       "  </tbody>\n",
       "</table>\n",
       "<p>2512 rows × 2 columns</p>\n",
       "</div>"
      ],
      "text/plain": [
       "             X  Y\n",
       "0    -2.236593  0\n",
       "1    -2.824244  0\n",
       "2    -0.707215  0\n",
       "3    -0.478124  0\n",
       "4    -1.030399  0\n",
       "...        ... ..\n",
       "2507  1.326585  1\n",
       "2508  0.085164  1\n",
       "2509 -1.750312  1\n",
       "2510  0.512316  1\n",
       "2511  2.540791  1\n",
       "\n",
       "[2512 rows x 2 columns]"
      ]
     },
     "execution_count": 24,
     "metadata": {},
     "output_type": "execute_result"
    }
   ],
   "source": [
    "transformed_X = pd.DataFrame(model.fit(X, Y).transform(X), columns = ['X'])\n",
    "finalDf = pd.concat([transformed_X, pd.DataFrame(Y, columns = ['Y'])], axis = 1)\n",
    "finalDf"
   ]
  },
  {
   "cell_type": "code",
   "execution_count": 34,
   "metadata": {},
   "outputs": [
    {
     "data": {
      "text/plain": [
       "<AxesSubplot:xlabel='X', ylabel='Count'>"
      ]
     },
     "execution_count": 34,
     "metadata": {},
     "output_type": "execute_result"
    },
    {
     "data": {
      "image/png": "[encoded data removed]",
      "text/plain": [
       "<Figure size 576x576 with 1 Axes>"
      ]
     },
     "metadata": {
      "needs_background": "light"
     },
     "output_type": "display_data"
    }
   ],
   "source": [
    "import matplotlib.pyplot as plt\n",
    "import seaborn as sns\n",
    "fig = plt.figure(figsize = (8,8))\n",
    " \n",
    "#create LDA plot\n",
    "targets = [0,1]\n",
    "colors = ['r', 'b']\n",
    "sns.histplot(finalDf, x = 'X', hue = 'Y')"
   ]
  },
  {
   "cell_type": "code",
   "execution_count": 37,
   "metadata": {},
   "outputs": [
    {
     "name": "stdout",
     "output_type": "stream",
     "text": [
      "Mean Accuracy: 0.577 (0.032)\n"
     ]
    }
   ],
   "source": [
    "#try quadratic discriminant\n",
    "from sklearn.discriminant_analysis import QuadraticDiscriminantAnalysis\n",
    "qua_model = QuadraticDiscriminantAnalysis()\n",
    "# define model evaluation method\n",
    "cv = RepeatedStratifiedKFold(n_splits=10, n_repeats=3, random_state=1)\n",
    "# evaluate model\n",
    "scores = cross_val_score(model, X, Y, scoring='accuracy', cv=cv, n_jobs=-1)\n",
    "# summarize result\n",
    "print('Mean Accuracy: %.3f (%.3f)' % (np.mean(scores), np.std(scores)))"
   ]
  },
  {
   "cell_type": "code",
   "execution_count": null,
   "metadata": {},
   "outputs": [],
   "source": []
  }
 ],
 "metadata": {
  "interpreter": {
   "hash": "aee8b7b246df8f9039afb4144a1f6fd8d2ca17a180786b69acc140d282b71a49"
  },
  "kernelspec": {
   "display_name": "Python 3.9.1 64-bit",
   "language": "python",
   "name": "python3"
  },
  "language_info": {
   "codemirror_mode": {
    "name": "ipython",
    "version": 3
   },
   "file_extension": ".py",
   "mimetype": "text/x-python",
   "name": "python",
   "nbconvert_exporter": "python",
   "pygments_lexer": "ipython3",
   "version": "3.9.1"
  },
  "orig_nbformat": 4
 },
 "nbformat": 4,
 "nbformat_minor": 2
}
